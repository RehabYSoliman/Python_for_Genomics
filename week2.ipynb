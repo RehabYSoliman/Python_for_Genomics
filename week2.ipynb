{
 "cells": [
  {
   "cell_type": "code",
   "execution_count": 2,
   "metadata": {
    "collapsed": true
   },
   "outputs": [],
   "source": [
    "seq='CGTAAGTACGTA'"
   ]
  },
  {
   "cell_type": "code",
   "execution_count": 3,
   "metadata": {
    "collapsed": true
   },
   "outputs": [
    {
     "name": "stdout",
     "output_type": "stream",
     "text": [
      "C\n",
      "CG\n",
      "G\n",
      "CGT\n",
      "GT\n",
      "T\n",
      "CGTA\n",
      "GTA\n",
      "TA\n",
      "A\n",
      "CGTAA\n",
      "GTAA\n",
      "TAA\n",
      "AA\n",
      "A\n",
      "CGTAAG\n",
      "GTAAG\n",
      "TAAG\n",
      "AAG\n",
      "AG\n",
      "G\n",
      "CGTAAGT\n",
      "GTAAGT\n",
      "TAAGT\n",
      "AAGT\n",
      "AGT\n",
      "GT\n",
      "T\n",
      "CGTAAGTA\n",
      "GTAAGTA\n",
      "TAAGTA\n",
      "AAGTA\n",
      "AGTA\n",
      "GTA\n",
      "TA\n",
      "A\n",
      "CGTAAGTAC\n",
      "GTAAGTAC\n",
      "TAAGTAC\n",
      "AAGTAC\n",
      "AGTAC\n",
      "GTAC\n",
      "TAC\n",
      "AC\n",
      "C\n",
      "CGTAAGTACG\n",
      "GTAAGTACG\n",
      "TAAGTACG\n",
      "AAGTACG\n",
      "AGTACG\n",
      "GTACG\n",
      "TACG\n",
      "ACG\n",
      "CG\n",
      "G\n",
      "CGTAAGTACGT\n",
      "GTAAGTACGT\n",
      "TAAGTACGT\n",
      "AAGTACGT\n",
      "AGTACGT\n",
      "GTACGT\n",
      "TACGT\n",
      "ACGT\n",
      "CGT\n",
      "GT\n",
      "T\n",
      "CGTAAGTACGTA\n",
      "GTAAGTACGTA\n",
      "TAAGTACGTA\n",
      "AAGTACGTA\n",
      "AGTACGTA\n",
      "GTACGTA\n",
      "TACGTA\n",
      "ACGTA\n",
      "CGTA\n",
      "GTA\n",
      "TA\n",
      "A\n"
     ]
    }
   ],
   "source": [
    "for i in range(len(seq)+1) :     # line 1\n",
    "        for j in range(i) :        # line 2\n",
    "                print(seq[j:i])     # line 3"
   ]
  },
  {
   "cell_type": "code",
   "execution_count": 1,
   "metadata": {
    "scrolled": true
   },
   "outputs": [],
   "source": [
    "lis=['life',25154,4788,0.458]"
   ]
  },
  {
   "cell_type": "code",
   "execution_count": 2,
   "metadata": {
    "scrolled": true
   },
   "outputs": [
    {
     "data": {
      "text/plain": [
       "['life', 25154, 4788, 0.458]"
      ]
     },
     "execution_count": 2,
     "metadata": {},
     "output_type": "execute_result"
    }
   ],
   "source": [
    "lis"
   ]
  },
  {
   "cell_type": "code",
   "execution_count": 3,
   "metadata": {
    "scrolled": true
   },
   "outputs": [],
   "source": [
    "del lis[1]"
   ]
  },
  {
   "cell_type": "code",
   "execution_count": 4,
   "metadata": {
    "scrolled": true
   },
   "outputs": [
    {
     "data": {
      "text/plain": [
       "['life', 4788, 0.458]"
      ]
     },
     "execution_count": 4,
     "metadata": {},
     "output_type": "execute_result"
    }
   ],
   "source": [
    "lis"
   ]
  },
  {
   "cell_type": "code",
   "execution_count": 17,
   "metadata": {
    "scrolled": true
   },
   "outputs": [],
   "source": [
    "i = 1\n",
    "while i < 100:\n",
    "        if i%2 == 0 : break\n",
    "        i += 1\n",
    "else:\n",
    "     i=1000"
   ]
  },
  {
   "cell_type": "code",
   "execution_count": 31,
   "metadata": {
    "scrolled": true
   },
   "outputs": [],
   "source": [
    "mylist=[1,2,2,3,4,5]"
   ]
  },
  {
   "cell_type": "code",
   "execution_count": 32,
   "metadata": {
    "scrolled": true
   },
   "outputs": [
    {
     "name": "stdout",
     "output_type": "stream",
     "text": [
      "True\n"
     ]
    }
   ],
   "source": [
    "d = {}\n",
    "result = False\n",
    "for x in mylist:\n",
    "    if x in d:\n",
    "        result=True\n",
    "        break\n",
    "    d[x] = True\n",
    "print(result)"
   ]
  },
  {
   "cell_type": "code",
   "execution_count": 33,
   "metadata": {
    "scrolled": true
   },
   "outputs": [
    {
     "data": {
      "text/plain": [
       "[1, 2, 2, 3, 4, 5]"
      ]
     },
     "execution_count": 33,
     "metadata": {},
     "output_type": "execute_result"
    }
   ],
   "source": [
    "mylist"
   ]
  },
  {
   "cell_type": "code",
   "execution_count": 34,
   "metadata": {
    "scrolled": true
   },
   "outputs": [
    {
     "name": "stdout",
     "output_type": "stream",
     "text": [
      "True\n"
     ]
    }
   ],
   "source": [
    "d = {}\n",
    "result = False\n",
    "for x in mylist:\n",
    "    if not x in d:\n",
    "        d[x]=True\n",
    "        continue\n",
    "    result = True\n",
    "print(result)"
   ]
  },
  {
   "cell_type": "code",
   "execution_count": 35,
   "metadata": {
    "scrolled": true
   },
   "outputs": [
    {
     "data": {
      "text/plain": [
       "[1, 2, 2, 3, 4, 5]"
      ]
     },
     "execution_count": 35,
     "metadata": {},
     "output_type": "execute_result"
    }
   ],
   "source": [
    "mylist"
   ]
  },
  {
   "cell_type": "code",
   "execution_count": null,
   "metadata": {},
   "outputs": [],
   "source": [
    "#Lecture 4.1 If and loops"
   ]
  },
  {
   "cell_type": "code",
   "execution_count": null,
   "metadata": {},
   "outputs": [],
   "source": [
    "#problem 1: Given a DNA sequence find the posithion of all Canonical donor splice candidates in a given sequence\n",
    "#hint: it starts with 'GT'"
   ]
  },
  {
   "cell_type": "code",
   "execution_count": 14,
   "metadata": {
    "scrolled": true
   },
   "outputs": [],
   "source": [
    "seq='GTCTACGGTTAGTCCTGACTAGTCGACG'"
   ]
  },
  {
   "cell_type": "code",
   "execution_count": 15,
   "metadata": {
    "scrolled": true
   },
   "outputs": [],
   "source": [
    "pos=seq.find('GT',0)"
   ]
  },
  {
   "cell_type": "code",
   "execution_count": 16,
   "metadata": {
    "scrolled": true
   },
   "outputs": [
    {
     "data": {
      "text/plain": [
       "0"
      ]
     },
     "execution_count": 16,
     "metadata": {},
     "output_type": "execute_result"
    }
   ],
   "source": [
    "pos"
   ]
  },
  {
   "cell_type": "code",
   "execution_count": 18,
   "metadata": {
    "scrolled": true
   },
   "outputs": [
    {
     "name": "stdout",
     "output_type": "stream",
     "text": [
      "Donor splice site candidate position is 0\n",
      "Donor splice site candidate position is 7\n",
      "Donor splice site candidate position is 11\n",
      "Donor splice site candidate position is 21\n"
     ]
    }
   ],
   "source": [
    "while pos>-1:\n",
    "    print('Donor splice site candidate position is %d'%pos)\n",
    "    pos=pos=seq.find('GT',pos+1)"
   ]
  },
  {
   "cell_type": "code",
   "execution_count": 24,
   "metadata": {
    "scrolled": true
   },
   "outputs": [],
   "source": [
    "protein=\"ASDFGYMNOKBFDVNMKKOOLKMJKPLG\"\n",
    "ref=\"ARNDBCEQZGHILKMFPSTWYV\"\n",
    "correct=''"
   ]
  },
  {
   "cell_type": "code",
   "execution_count": 25,
   "metadata": {
    "scrolled": true
   },
   "outputs": [
    {
     "name": "stdout",
     "output_type": "stream",
     "text": [
      "invalid entery O\n",
      "invalid entery O\n",
      "invalid entery O\n",
      "invalid entery J\n"
     ]
    }
   ],
   "source": [
    "for i in protein:\n",
    "    if i not in ref:\n",
    "        print('invalid entery',i)\n",
    "        continue\n",
    "    correct=correct+i\n",
    "        "
   ]
  },
  {
   "cell_type": "code",
   "execution_count": 26,
   "metadata": {
    "scrolled": true
   },
   "outputs": [
    {
     "data": {
      "text/plain": [
       "'ASDFGYMNKBFDVNMKKLKMKPLG'"
      ]
     },
     "execution_count": 26,
     "metadata": {},
     "output_type": "execute_result"
    }
   ],
   "source": [
    "correct"
   ]
  },
  {
   "cell_type": "code",
   "execution_count": 27,
   "metadata": {
    "scrolled": true
   },
   "outputs": [
    {
     "data": {
      "text/plain": [
       "24"
      ]
     },
     "execution_count": 27,
     "metadata": {},
     "output_type": "execute_result"
    }
   ],
   "source": [
    "len(correct)"
   ]
  },
  {
   "cell_type": "code",
   "execution_count": 21,
   "metadata": {
    "scrolled": true
   },
   "outputs": [
    {
     "data": {
      "text/plain": [
       "28"
      ]
     },
     "execution_count": 21,
     "metadata": {},
     "output_type": "execute_result"
    }
   ],
   "source": [
    "len(protein)"
   ]
  },
  {
   "cell_type": "code",
   "execution_count": null,
   "metadata": {},
   "outputs": [],
   "source": [
    "#Pass statment"
   ]
  },
  {
   "cell_type": "code",
   "execution_count": 20,
   "metadata": {},
   "outputs": [
    {
     "name": "stdout",
     "output_type": "stream",
     "text": [
      "Current Letter : P\n",
      "Current Letter : y\n",
      "Current Letter : t\n",
      "This is pass block\n",
      "Current Letter : h\n",
      "Current Letter : o\n",
      "Current Letter : n\n",
      "Good bye!\n"
     ]
    }
   ],
   "source": [
    "for letter in 'Python': \n",
    "    if letter == 'h':\n",
    "        pass\n",
    "        print ('This is pass block')\n",
    "    print ('Current Letter :', letter)\n",
    "\n",
    "print (\"Good bye!\")"
   ]
  },
  {
   "cell_type": "code",
   "execution_count": 4,
   "metadata": {
    "scrolled": true
   },
   "outputs": [],
   "source": [
    "count=0"
   ]
  },
  {
   "cell_type": "code",
   "execution_count": 5,
   "metadata": {
    "scrolled": true
   },
   "outputs": [],
   "source": [
    "i=1\n",
    "while i< 2048 :\n",
    "    i=2*i\n",
    "    count+=1"
   ]
  },
  {
   "cell_type": "code",
   "execution_count": 6,
   "metadata": {
    "scrolled": true
   },
   "outputs": [
    {
     "data": {
      "text/plain": [
       "11"
      ]
     },
     "execution_count": 6,
     "metadata": {},
     "output_type": "execute_result"
    }
   ],
   "source": [
    "count"
   ]
  },
  {
   "cell_type": "code",
   "execution_count": 56,
   "metadata": {
    "collapsed": true
   },
   "outputs": [],
   "source": [
    "i = 1\n",
    "while i < 100:\n",
    "          if i%2 == 0 : break\n",
    "          i += 1\n",
    "else:\n",
    "     i=1000"
   ]
  },
  {
   "cell_type": "code",
   "execution_count": 57,
   "metadata": {
    "collapsed": true
   },
   "outputs": [
    {
     "data": {
      "text/plain": [
       "2"
      ]
     },
     "execution_count": 57,
     "metadata": {},
     "output_type": "execute_result"
    }
   ],
   "source": [
    "i"
   ]
  },
  {
   "cell_type": "code",
   "execution_count": 20,
   "metadata": {
    "scrolled": true
   },
   "outputs": [],
   "source": [
    "x=9"
   ]
  },
  {
   "cell_type": "code",
   "execution_count": 21,
   "metadata": {
    "scrolled": true
   },
   "outputs": [
    {
     "name": "stdout",
     "output_type": "stream",
     "text": [
      "small\n"
     ]
    }
   ],
   "source": [
    "if x>10 or x<-10: print('big')\n",
    "elif x>1000000: print('very big')\n",
    "elif x<-1000000: print('very big')\n",
    "else : print('small')"
   ]
  },
  {
   "cell_type": "code",
   "execution_count": 35,
   "metadata": {
    "scrolled": true
   },
   "outputs": [],
   "source": [
    "mylist=[1,2,2,3,4,5]"
   ]
  },
  {
   "cell_type": "code",
   "execution_count": 34,
   "metadata": {
    "scrolled": true
   },
   "outputs": [
    {
     "name": "stdout",
     "output_type": "stream",
     "text": [
      "True\n",
      "{1: True, 2: True}\n"
     ]
    }
   ],
   "source": [
    "#version1\n",
    "d = {}\n",
    "result = False\n",
    "for x in mylist:\n",
    "        if x in d:\n",
    "            result=True\n",
    "            break\n",
    "        d[x] = True\n",
    "\n",
    "print(result)\n",
    "print(d)"
   ]
  },
  {
   "cell_type": "raw",
   "metadata": {},
   "source": []
  },
  {
   "cell_type": "code",
   "execution_count": 36,
   "metadata": {
    "scrolled": true
   },
   "outputs": [
    {
     "name": "stdout",
     "output_type": "stream",
     "text": [
      "True\n",
      "{1: True, 2: True, 3: True, 4: True, 5: True}\n"
     ]
    }
   ],
   "source": [
    "#version2\n",
    "d = {}\n",
    "result = False\n",
    "for x in mylist:\n",
    "    if not x in d:\n",
    "        d[x]=True\n",
    "        continue\n",
    "    result = True\n",
    "print(result)\n",
    "print(d)"
   ]
  },
  {
   "cell_type": "code",
   "execution_count": 38,
   "metadata": {
    "scrolled": true
   },
   "outputs": [],
   "source": [
    "seq='GTCTACGGTTAGTCCTGACTAGTCGACG'"
   ]
  },
  {
   "cell_type": "code",
   "execution_count": 42,
   "metadata": {
    "collapsed": true
   },
   "outputs": [
    {
     "name": "stdout",
     "output_type": "stream",
     "text": [
      "G\n",
      "GT\n",
      "T\n",
      "GTC\n",
      "TC\n",
      "C\n",
      "GTCT\n",
      "TCT\n",
      "CT\n",
      "T\n",
      "GTCTA\n",
      "TCTA\n",
      "CTA\n",
      "TA\n",
      "A\n",
      "GTCTAC\n",
      "TCTAC\n",
      "CTAC\n",
      "TAC\n",
      "AC\n",
      "C\n",
      "GTCTACG\n",
      "TCTACG\n",
      "CTACG\n",
      "TACG\n",
      "ACG\n",
      "CG\n",
      "G\n",
      "GTCTACGG\n",
      "TCTACGG\n",
      "CTACGG\n",
      "TACGG\n",
      "ACGG\n",
      "CGG\n",
      "GG\n",
      "G\n",
      "GTCTACGGT\n",
      "TCTACGGT\n",
      "CTACGGT\n",
      "TACGGT\n",
      "ACGGT\n",
      "CGGT\n",
      "GGT\n",
      "GT\n",
      "T\n",
      "GTCTACGGTT\n",
      "TCTACGGTT\n",
      "CTACGGTT\n",
      "TACGGTT\n",
      "ACGGTT\n",
      "CGGTT\n",
      "GGTT\n",
      "GTT\n",
      "TT\n",
      "T\n",
      "GTCTACGGTTA\n",
      "TCTACGGTTA\n",
      "CTACGGTTA\n",
      "TACGGTTA\n",
      "ACGGTTA\n",
      "CGGTTA\n",
      "GGTTA\n",
      "GTTA\n",
      "TTA\n",
      "TA\n",
      "A\n",
      "GTCTACGGTTAG\n",
      "TCTACGGTTAG\n",
      "CTACGGTTAG\n",
      "TACGGTTAG\n",
      "ACGGTTAG\n",
      "CGGTTAG\n",
      "GGTTAG\n",
      "GTTAG\n",
      "TTAG\n",
      "TAG\n",
      "AG\n",
      "G\n",
      "GTCTACGGTTAGT\n",
      "TCTACGGTTAGT\n",
      "CTACGGTTAGT\n",
      "TACGGTTAGT\n",
      "ACGGTTAGT\n",
      "CGGTTAGT\n",
      "GGTTAGT\n",
      "GTTAGT\n",
      "TTAGT\n",
      "TAGT\n",
      "AGT\n",
      "GT\n",
      "T\n",
      "GTCTACGGTTAGTC\n",
      "TCTACGGTTAGTC\n",
      "CTACGGTTAGTC\n",
      "TACGGTTAGTC\n",
      "ACGGTTAGTC\n",
      "CGGTTAGTC\n",
      "GGTTAGTC\n",
      "GTTAGTC\n",
      "TTAGTC\n",
      "TAGTC\n",
      "AGTC\n",
      "GTC\n",
      "TC\n",
      "C\n",
      "GTCTACGGTTAGTCC\n",
      "TCTACGGTTAGTCC\n",
      "CTACGGTTAGTCC\n",
      "TACGGTTAGTCC\n",
      "ACGGTTAGTCC\n",
      "CGGTTAGTCC\n",
      "GGTTAGTCC\n",
      "GTTAGTCC\n",
      "TTAGTCC\n",
      "TAGTCC\n",
      "AGTCC\n",
      "GTCC\n",
      "TCC\n",
      "CC\n",
      "C\n",
      "GTCTACGGTTAGTCCT\n",
      "TCTACGGTTAGTCCT\n",
      "CTACGGTTAGTCCT\n",
      "TACGGTTAGTCCT\n",
      "ACGGTTAGTCCT\n",
      "CGGTTAGTCCT\n",
      "GGTTAGTCCT\n",
      "GTTAGTCCT\n",
      "TTAGTCCT\n",
      "TAGTCCT\n",
      "AGTCCT\n",
      "GTCCT\n",
      "TCCT\n",
      "CCT\n",
      "CT\n",
      "T\n",
      "GTCTACGGTTAGTCCTG\n",
      "TCTACGGTTAGTCCTG\n",
      "CTACGGTTAGTCCTG\n",
      "TACGGTTAGTCCTG\n",
      "ACGGTTAGTCCTG\n",
      "CGGTTAGTCCTG\n",
      "GGTTAGTCCTG\n",
      "GTTAGTCCTG\n",
      "TTAGTCCTG\n",
      "TAGTCCTG\n",
      "AGTCCTG\n",
      "GTCCTG\n",
      "TCCTG\n",
      "CCTG\n",
      "CTG\n",
      "TG\n",
      "G\n",
      "GTCTACGGTTAGTCCTGA\n",
      "TCTACGGTTAGTCCTGA\n",
      "CTACGGTTAGTCCTGA\n",
      "TACGGTTAGTCCTGA\n",
      "ACGGTTAGTCCTGA\n",
      "CGGTTAGTCCTGA\n",
      "GGTTAGTCCTGA\n",
      "GTTAGTCCTGA\n",
      "TTAGTCCTGA\n",
      "TAGTCCTGA\n",
      "AGTCCTGA\n",
      "GTCCTGA\n",
      "TCCTGA\n",
      "CCTGA\n",
      "CTGA\n",
      "TGA\n",
      "GA\n",
      "A\n",
      "GTCTACGGTTAGTCCTGAC\n",
      "TCTACGGTTAGTCCTGAC\n",
      "CTACGGTTAGTCCTGAC\n",
      "TACGGTTAGTCCTGAC\n",
      "ACGGTTAGTCCTGAC\n",
      "CGGTTAGTCCTGAC\n",
      "GGTTAGTCCTGAC\n",
      "GTTAGTCCTGAC\n",
      "TTAGTCCTGAC\n",
      "TAGTCCTGAC\n",
      "AGTCCTGAC\n",
      "GTCCTGAC\n",
      "TCCTGAC\n",
      "CCTGAC\n",
      "CTGAC\n",
      "TGAC\n",
      "GAC\n",
      "AC\n",
      "C\n",
      "GTCTACGGTTAGTCCTGACT\n",
      "TCTACGGTTAGTCCTGACT\n",
      "CTACGGTTAGTCCTGACT\n",
      "TACGGTTAGTCCTGACT\n",
      "ACGGTTAGTCCTGACT\n",
      "CGGTTAGTCCTGACT\n",
      "GGTTAGTCCTGACT\n",
      "GTTAGTCCTGACT\n",
      "TTAGTCCTGACT\n",
      "TAGTCCTGACT\n",
      "AGTCCTGACT\n",
      "GTCCTGACT\n",
      "TCCTGACT\n",
      "CCTGACT\n",
      "CTGACT\n",
      "TGACT\n",
      "GACT\n",
      "ACT\n",
      "CT\n",
      "T\n",
      "GTCTACGGTTAGTCCTGACTA\n",
      "TCTACGGTTAGTCCTGACTA\n",
      "CTACGGTTAGTCCTGACTA\n",
      "TACGGTTAGTCCTGACTA\n",
      "ACGGTTAGTCCTGACTA\n",
      "CGGTTAGTCCTGACTA\n",
      "GGTTAGTCCTGACTA\n",
      "GTTAGTCCTGACTA\n",
      "TTAGTCCTGACTA\n",
      "TAGTCCTGACTA\n",
      "AGTCCTGACTA\n",
      "GTCCTGACTA\n",
      "TCCTGACTA\n",
      "CCTGACTA\n",
      "CTGACTA\n",
      "TGACTA\n",
      "GACTA\n",
      "ACTA\n",
      "CTA\n",
      "TA\n",
      "A\n",
      "GTCTACGGTTAGTCCTGACTAG\n",
      "TCTACGGTTAGTCCTGACTAG\n",
      "CTACGGTTAGTCCTGACTAG\n",
      "TACGGTTAGTCCTGACTAG\n",
      "ACGGTTAGTCCTGACTAG\n",
      "CGGTTAGTCCTGACTAG\n",
      "GGTTAGTCCTGACTAG\n",
      "GTTAGTCCTGACTAG\n",
      "TTAGTCCTGACTAG\n",
      "TAGTCCTGACTAG\n",
      "AGTCCTGACTAG\n",
      "GTCCTGACTAG\n",
      "TCCTGACTAG\n",
      "CCTGACTAG\n",
      "CTGACTAG\n",
      "TGACTAG\n",
      "GACTAG\n",
      "ACTAG\n",
      "CTAG\n",
      "TAG\n",
      "AG\n",
      "G\n",
      "GTCTACGGTTAGTCCTGACTAGT\n",
      "TCTACGGTTAGTCCTGACTAGT\n",
      "CTACGGTTAGTCCTGACTAGT\n",
      "TACGGTTAGTCCTGACTAGT\n",
      "ACGGTTAGTCCTGACTAGT\n",
      "CGGTTAGTCCTGACTAGT\n",
      "GGTTAGTCCTGACTAGT\n",
      "GTTAGTCCTGACTAGT\n",
      "TTAGTCCTGACTAGT\n",
      "TAGTCCTGACTAGT\n",
      "AGTCCTGACTAGT\n",
      "GTCCTGACTAGT\n",
      "TCCTGACTAGT\n",
      "CCTGACTAGT\n",
      "CTGACTAGT\n",
      "TGACTAGT\n",
      "GACTAGT\n",
      "ACTAGT\n",
      "CTAGT\n",
      "TAGT\n",
      "AGT\n",
      "GT\n",
      "T\n",
      "GTCTACGGTTAGTCCTGACTAGTC\n",
      "TCTACGGTTAGTCCTGACTAGTC\n",
      "CTACGGTTAGTCCTGACTAGTC\n",
      "TACGGTTAGTCCTGACTAGTC\n",
      "ACGGTTAGTCCTGACTAGTC\n",
      "CGGTTAGTCCTGACTAGTC\n",
      "GGTTAGTCCTGACTAGTC\n",
      "GTTAGTCCTGACTAGTC\n",
      "TTAGTCCTGACTAGTC\n",
      "TAGTCCTGACTAGTC\n",
      "AGTCCTGACTAGTC\n",
      "GTCCTGACTAGTC\n",
      "TCCTGACTAGTC\n",
      "CCTGACTAGTC\n",
      "CTGACTAGTC\n",
      "TGACTAGTC\n",
      "GACTAGTC\n",
      "ACTAGTC\n",
      "CTAGTC\n",
      "TAGTC\n",
      "AGTC\n",
      "GTC\n",
      "TC\n",
      "C\n",
      "GTCTACGGTTAGTCCTGACTAGTCG\n",
      "TCTACGGTTAGTCCTGACTAGTCG\n",
      "CTACGGTTAGTCCTGACTAGTCG\n",
      "TACGGTTAGTCCTGACTAGTCG\n",
      "ACGGTTAGTCCTGACTAGTCG\n",
      "CGGTTAGTCCTGACTAGTCG\n",
      "GGTTAGTCCTGACTAGTCG\n",
      "GTTAGTCCTGACTAGTCG\n",
      "TTAGTCCTGACTAGTCG\n",
      "TAGTCCTGACTAGTCG\n",
      "AGTCCTGACTAGTCG\n",
      "GTCCTGACTAGTCG\n",
      "TCCTGACTAGTCG\n",
      "CCTGACTAGTCG\n",
      "CTGACTAGTCG\n",
      "TGACTAGTCG\n",
      "GACTAGTCG\n",
      "ACTAGTCG\n",
      "CTAGTCG\n",
      "TAGTCG\n",
      "AGTCG\n",
      "GTCG\n",
      "TCG\n",
      "CG\n",
      "G\n",
      "GTCTACGGTTAGTCCTGACTAGTCGA\n",
      "TCTACGGTTAGTCCTGACTAGTCGA\n",
      "CTACGGTTAGTCCTGACTAGTCGA\n",
      "TACGGTTAGTCCTGACTAGTCGA\n",
      "ACGGTTAGTCCTGACTAGTCGA\n",
      "CGGTTAGTCCTGACTAGTCGA\n",
      "GGTTAGTCCTGACTAGTCGA\n",
      "GTTAGTCCTGACTAGTCGA\n",
      "TTAGTCCTGACTAGTCGA\n",
      "TAGTCCTGACTAGTCGA\n",
      "AGTCCTGACTAGTCGA\n",
      "GTCCTGACTAGTCGA\n",
      "TCCTGACTAGTCGA\n",
      "CCTGACTAGTCGA\n",
      "CTGACTAGTCGA\n",
      "TGACTAGTCGA\n",
      "GACTAGTCGA\n",
      "ACTAGTCGA\n",
      "CTAGTCGA\n",
      "TAGTCGA\n",
      "AGTCGA\n",
      "GTCGA\n",
      "TCGA\n",
      "CGA\n",
      "GA\n",
      "A\n",
      "GTCTACGGTTAGTCCTGACTAGTCGAC\n",
      "TCTACGGTTAGTCCTGACTAGTCGAC\n",
      "CTACGGTTAGTCCTGACTAGTCGAC\n",
      "TACGGTTAGTCCTGACTAGTCGAC\n",
      "ACGGTTAGTCCTGACTAGTCGAC\n",
      "CGGTTAGTCCTGACTAGTCGAC\n",
      "GGTTAGTCCTGACTAGTCGAC\n",
      "GTTAGTCCTGACTAGTCGAC\n",
      "TTAGTCCTGACTAGTCGAC\n",
      "TAGTCCTGACTAGTCGAC\n",
      "AGTCCTGACTAGTCGAC\n",
      "GTCCTGACTAGTCGAC\n",
      "TCCTGACTAGTCGAC\n",
      "CCTGACTAGTCGAC\n",
      "CTGACTAGTCGAC\n",
      "TGACTAGTCGAC\n",
      "GACTAGTCGAC\n",
      "ACTAGTCGAC\n",
      "CTAGTCGAC\n",
      "TAGTCGAC\n",
      "AGTCGAC\n",
      "GTCGAC\n",
      "TCGAC\n",
      "CGAC\n",
      "GAC\n",
      "AC\n",
      "C\n",
      "GTCTACGGTTAGTCCTGACTAGTCGACG\n",
      "TCTACGGTTAGTCCTGACTAGTCGACG\n",
      "CTACGGTTAGTCCTGACTAGTCGACG\n",
      "TACGGTTAGTCCTGACTAGTCGACG\n",
      "ACGGTTAGTCCTGACTAGTCGACG\n",
      "CGGTTAGTCCTGACTAGTCGACG\n",
      "GGTTAGTCCTGACTAGTCGACG\n",
      "GTTAGTCCTGACTAGTCGACG\n",
      "TTAGTCCTGACTAGTCGACG\n",
      "TAGTCCTGACTAGTCGACG\n",
      "AGTCCTGACTAGTCGACG\n",
      "GTCCTGACTAGTCGACG\n",
      "TCCTGACTAGTCGACG\n",
      "CCTGACTAGTCGACG\n",
      "CTGACTAGTCGACG\n",
      "TGACTAGTCGACG\n",
      "GACTAGTCGACG\n",
      "ACTAGTCGACG\n",
      "CTAGTCGACG\n",
      "TAGTCGACG\n",
      "AGTCGACG\n",
      "GTCGACG\n",
      "TCGACG\n",
      "CGACG\n",
      "GACG\n",
      "ACG\n",
      "CG\n",
      "G\n"
     ]
    }
   ],
   "source": [
    "for i in range(len(seq)) :     # line 1\n",
    "        for j in range(i+1) :        # line 2\n",
    "                print(seq[j:i+1])     # line 3"
   ]
  },
  {
   "cell_type": "code",
   "execution_count": 43,
   "metadata": {
    "collapsed": true
   },
   "outputs": [
    {
     "name": "stdout",
     "output_type": "stream",
     "text": [
      "\n",
      "G\n",
      "\n",
      "GT\n",
      "T\n",
      "\n",
      "GTC\n",
      "TC\n",
      "C\n",
      "\n",
      "GTCT\n",
      "TCT\n",
      "CT\n",
      "T\n",
      "\n",
      "GTCTA\n",
      "TCTA\n",
      "CTA\n",
      "TA\n",
      "A\n",
      "\n",
      "GTCTAC\n",
      "TCTAC\n",
      "CTAC\n",
      "TAC\n",
      "AC\n",
      "C\n",
      "\n",
      "GTCTACG\n",
      "TCTACG\n",
      "CTACG\n",
      "TACG\n",
      "ACG\n",
      "CG\n",
      "G\n",
      "\n",
      "GTCTACGG\n",
      "TCTACGG\n",
      "CTACGG\n",
      "TACGG\n",
      "ACGG\n",
      "CGG\n",
      "GG\n",
      "G\n",
      "\n",
      "GTCTACGGT\n",
      "TCTACGGT\n",
      "CTACGGT\n",
      "TACGGT\n",
      "ACGGT\n",
      "CGGT\n",
      "GGT\n",
      "GT\n",
      "T\n",
      "\n",
      "GTCTACGGTT\n",
      "TCTACGGTT\n",
      "CTACGGTT\n",
      "TACGGTT\n",
      "ACGGTT\n",
      "CGGTT\n",
      "GGTT\n",
      "GTT\n",
      "TT\n",
      "T\n",
      "\n",
      "GTCTACGGTTA\n",
      "TCTACGGTTA\n",
      "CTACGGTTA\n",
      "TACGGTTA\n",
      "ACGGTTA\n",
      "CGGTTA\n",
      "GGTTA\n",
      "GTTA\n",
      "TTA\n",
      "TA\n",
      "A\n",
      "\n",
      "GTCTACGGTTAG\n",
      "TCTACGGTTAG\n",
      "CTACGGTTAG\n",
      "TACGGTTAG\n",
      "ACGGTTAG\n",
      "CGGTTAG\n",
      "GGTTAG\n",
      "GTTAG\n",
      "TTAG\n",
      "TAG\n",
      "AG\n",
      "G\n",
      "\n",
      "GTCTACGGTTAGT\n",
      "TCTACGGTTAGT\n",
      "CTACGGTTAGT\n",
      "TACGGTTAGT\n",
      "ACGGTTAGT\n",
      "CGGTTAGT\n",
      "GGTTAGT\n",
      "GTTAGT\n",
      "TTAGT\n",
      "TAGT\n",
      "AGT\n",
      "GT\n",
      "T\n",
      "\n",
      "GTCTACGGTTAGTC\n",
      "TCTACGGTTAGTC\n",
      "CTACGGTTAGTC\n",
      "TACGGTTAGTC\n",
      "ACGGTTAGTC\n",
      "CGGTTAGTC\n",
      "GGTTAGTC\n",
      "GTTAGTC\n",
      "TTAGTC\n",
      "TAGTC\n",
      "AGTC\n",
      "GTC\n",
      "TC\n",
      "C\n",
      "\n",
      "GTCTACGGTTAGTCC\n",
      "TCTACGGTTAGTCC\n",
      "CTACGGTTAGTCC\n",
      "TACGGTTAGTCC\n",
      "ACGGTTAGTCC\n",
      "CGGTTAGTCC\n",
      "GGTTAGTCC\n",
      "GTTAGTCC\n",
      "TTAGTCC\n",
      "TAGTCC\n",
      "AGTCC\n",
      "GTCC\n",
      "TCC\n",
      "CC\n",
      "C\n",
      "\n",
      "GTCTACGGTTAGTCCT\n",
      "TCTACGGTTAGTCCT\n",
      "CTACGGTTAGTCCT\n",
      "TACGGTTAGTCCT\n",
      "ACGGTTAGTCCT\n",
      "CGGTTAGTCCT\n",
      "GGTTAGTCCT\n",
      "GTTAGTCCT\n",
      "TTAGTCCT\n",
      "TAGTCCT\n",
      "AGTCCT\n",
      "GTCCT\n",
      "TCCT\n",
      "CCT\n",
      "CT\n",
      "T\n",
      "\n",
      "GTCTACGGTTAGTCCTG\n",
      "TCTACGGTTAGTCCTG\n",
      "CTACGGTTAGTCCTG\n",
      "TACGGTTAGTCCTG\n",
      "ACGGTTAGTCCTG\n",
      "CGGTTAGTCCTG\n",
      "GGTTAGTCCTG\n",
      "GTTAGTCCTG\n",
      "TTAGTCCTG\n",
      "TAGTCCTG\n",
      "AGTCCTG\n",
      "GTCCTG\n",
      "TCCTG\n",
      "CCTG\n",
      "CTG\n",
      "TG\n",
      "G\n",
      "\n",
      "GTCTACGGTTAGTCCTGA\n",
      "TCTACGGTTAGTCCTGA\n",
      "CTACGGTTAGTCCTGA\n",
      "TACGGTTAGTCCTGA\n",
      "ACGGTTAGTCCTGA\n",
      "CGGTTAGTCCTGA\n",
      "GGTTAGTCCTGA\n",
      "GTTAGTCCTGA\n",
      "TTAGTCCTGA\n",
      "TAGTCCTGA\n",
      "AGTCCTGA\n",
      "GTCCTGA\n",
      "TCCTGA\n",
      "CCTGA\n",
      "CTGA\n",
      "TGA\n",
      "GA\n",
      "A\n",
      "\n",
      "GTCTACGGTTAGTCCTGAC\n",
      "TCTACGGTTAGTCCTGAC\n",
      "CTACGGTTAGTCCTGAC\n",
      "TACGGTTAGTCCTGAC\n",
      "ACGGTTAGTCCTGAC\n",
      "CGGTTAGTCCTGAC\n",
      "GGTTAGTCCTGAC\n",
      "GTTAGTCCTGAC\n",
      "TTAGTCCTGAC\n",
      "TAGTCCTGAC\n",
      "AGTCCTGAC\n",
      "GTCCTGAC\n",
      "TCCTGAC\n",
      "CCTGAC\n",
      "CTGAC\n",
      "TGAC\n",
      "GAC\n",
      "AC\n",
      "C\n",
      "\n",
      "GTCTACGGTTAGTCCTGACT\n",
      "TCTACGGTTAGTCCTGACT\n",
      "CTACGGTTAGTCCTGACT\n",
      "TACGGTTAGTCCTGACT\n",
      "ACGGTTAGTCCTGACT\n",
      "CGGTTAGTCCTGACT\n",
      "GGTTAGTCCTGACT\n",
      "GTTAGTCCTGACT\n",
      "TTAGTCCTGACT\n",
      "TAGTCCTGACT\n",
      "AGTCCTGACT\n",
      "GTCCTGACT\n",
      "TCCTGACT\n",
      "CCTGACT\n",
      "CTGACT\n",
      "TGACT\n",
      "GACT\n",
      "ACT\n",
      "CT\n",
      "T\n",
      "\n",
      "GTCTACGGTTAGTCCTGACTA\n",
      "TCTACGGTTAGTCCTGACTA\n",
      "CTACGGTTAGTCCTGACTA\n",
      "TACGGTTAGTCCTGACTA\n",
      "ACGGTTAGTCCTGACTA\n",
      "CGGTTAGTCCTGACTA\n",
      "GGTTAGTCCTGACTA\n",
      "GTTAGTCCTGACTA\n",
      "TTAGTCCTGACTA\n",
      "TAGTCCTGACTA\n",
      "AGTCCTGACTA\n",
      "GTCCTGACTA\n",
      "TCCTGACTA\n",
      "CCTGACTA\n",
      "CTGACTA\n",
      "TGACTA\n",
      "GACTA\n",
      "ACTA\n",
      "CTA\n",
      "TA\n",
      "A\n",
      "\n",
      "GTCTACGGTTAGTCCTGACTAG\n",
      "TCTACGGTTAGTCCTGACTAG\n",
      "CTACGGTTAGTCCTGACTAG\n",
      "TACGGTTAGTCCTGACTAG\n",
      "ACGGTTAGTCCTGACTAG\n",
      "CGGTTAGTCCTGACTAG\n",
      "GGTTAGTCCTGACTAG\n",
      "GTTAGTCCTGACTAG\n",
      "TTAGTCCTGACTAG\n",
      "TAGTCCTGACTAG\n",
      "AGTCCTGACTAG\n",
      "GTCCTGACTAG\n",
      "TCCTGACTAG\n",
      "CCTGACTAG\n",
      "CTGACTAG\n",
      "TGACTAG\n",
      "GACTAG\n",
      "ACTAG\n",
      "CTAG\n",
      "TAG\n",
      "AG\n",
      "G\n",
      "\n",
      "GTCTACGGTTAGTCCTGACTAGT\n",
      "TCTACGGTTAGTCCTGACTAGT\n",
      "CTACGGTTAGTCCTGACTAGT\n",
      "TACGGTTAGTCCTGACTAGT\n",
      "ACGGTTAGTCCTGACTAGT\n",
      "CGGTTAGTCCTGACTAGT\n",
      "GGTTAGTCCTGACTAGT\n",
      "GTTAGTCCTGACTAGT\n",
      "TTAGTCCTGACTAGT\n",
      "TAGTCCTGACTAGT\n",
      "AGTCCTGACTAGT\n",
      "GTCCTGACTAGT\n",
      "TCCTGACTAGT\n",
      "CCTGACTAGT\n",
      "CTGACTAGT\n",
      "TGACTAGT\n",
      "GACTAGT\n",
      "ACTAGT\n",
      "CTAGT\n",
      "TAGT\n",
      "AGT\n",
      "GT\n",
      "T\n",
      "\n",
      "GTCTACGGTTAGTCCTGACTAGTC\n",
      "TCTACGGTTAGTCCTGACTAGTC\n",
      "CTACGGTTAGTCCTGACTAGTC\n",
      "TACGGTTAGTCCTGACTAGTC\n",
      "ACGGTTAGTCCTGACTAGTC\n",
      "CGGTTAGTCCTGACTAGTC\n",
      "GGTTAGTCCTGACTAGTC\n",
      "GTTAGTCCTGACTAGTC\n",
      "TTAGTCCTGACTAGTC\n",
      "TAGTCCTGACTAGTC\n",
      "AGTCCTGACTAGTC\n",
      "GTCCTGACTAGTC\n",
      "TCCTGACTAGTC\n",
      "CCTGACTAGTC\n",
      "CTGACTAGTC\n",
      "TGACTAGTC\n",
      "GACTAGTC\n",
      "ACTAGTC\n",
      "CTAGTC\n",
      "TAGTC\n",
      "AGTC\n",
      "GTC\n",
      "TC\n",
      "C\n",
      "\n",
      "GTCTACGGTTAGTCCTGACTAGTCG\n",
      "TCTACGGTTAGTCCTGACTAGTCG\n",
      "CTACGGTTAGTCCTGACTAGTCG\n",
      "TACGGTTAGTCCTGACTAGTCG\n",
      "ACGGTTAGTCCTGACTAGTCG\n",
      "CGGTTAGTCCTGACTAGTCG\n",
      "GGTTAGTCCTGACTAGTCG\n",
      "GTTAGTCCTGACTAGTCG\n",
      "TTAGTCCTGACTAGTCG\n",
      "TAGTCCTGACTAGTCG\n",
      "AGTCCTGACTAGTCG\n",
      "GTCCTGACTAGTCG\n",
      "TCCTGACTAGTCG\n",
      "CCTGACTAGTCG\n",
      "CTGACTAGTCG\n",
      "TGACTAGTCG\n",
      "GACTAGTCG\n",
      "ACTAGTCG\n",
      "CTAGTCG\n",
      "TAGTCG\n",
      "AGTCG\n",
      "GTCG\n",
      "TCG\n",
      "CG\n",
      "G\n",
      "\n",
      "GTCTACGGTTAGTCCTGACTAGTCGA\n",
      "TCTACGGTTAGTCCTGACTAGTCGA\n",
      "CTACGGTTAGTCCTGACTAGTCGA\n",
      "TACGGTTAGTCCTGACTAGTCGA\n",
      "ACGGTTAGTCCTGACTAGTCGA\n",
      "CGGTTAGTCCTGACTAGTCGA\n",
      "GGTTAGTCCTGACTAGTCGA\n",
      "GTTAGTCCTGACTAGTCGA\n",
      "TTAGTCCTGACTAGTCGA\n",
      "TAGTCCTGACTAGTCGA\n",
      "AGTCCTGACTAGTCGA\n",
      "GTCCTGACTAGTCGA\n",
      "TCCTGACTAGTCGA\n",
      "CCTGACTAGTCGA\n",
      "CTGACTAGTCGA\n",
      "TGACTAGTCGA\n",
      "GACTAGTCGA\n",
      "ACTAGTCGA\n",
      "CTAGTCGA\n",
      "TAGTCGA\n",
      "AGTCGA\n",
      "GTCGA\n",
      "TCGA\n",
      "CGA\n",
      "GA\n",
      "A\n",
      "\n",
      "GTCTACGGTTAGTCCTGACTAGTCGAC\n",
      "TCTACGGTTAGTCCTGACTAGTCGAC\n",
      "CTACGGTTAGTCCTGACTAGTCGAC\n",
      "TACGGTTAGTCCTGACTAGTCGAC\n",
      "ACGGTTAGTCCTGACTAGTCGAC\n",
      "CGGTTAGTCCTGACTAGTCGAC\n",
      "GGTTAGTCCTGACTAGTCGAC\n",
      "GTTAGTCCTGACTAGTCGAC\n",
      "TTAGTCCTGACTAGTCGAC\n",
      "TAGTCCTGACTAGTCGAC\n",
      "AGTCCTGACTAGTCGAC\n",
      "GTCCTGACTAGTCGAC\n",
      "TCCTGACTAGTCGAC\n",
      "CCTGACTAGTCGAC\n",
      "CTGACTAGTCGAC\n",
      "TGACTAGTCGAC\n",
      "GACTAGTCGAC\n",
      "ACTAGTCGAC\n",
      "CTAGTCGAC\n",
      "TAGTCGAC\n",
      "AGTCGAC\n",
      "GTCGAC\n",
      "TCGAC\n",
      "CGAC\n",
      "GAC\n",
      "AC\n",
      "C\n",
      "\n",
      "GTCTACGGTTAGTCCTGACTAGTCGACG\n",
      "TCTACGGTTAGTCCTGACTAGTCGACG\n",
      "CTACGGTTAGTCCTGACTAGTCGACG\n",
      "TACGGTTAGTCCTGACTAGTCGACG\n",
      "ACGGTTAGTCCTGACTAGTCGACG\n",
      "CGGTTAGTCCTGACTAGTCGACG\n",
      "GGTTAGTCCTGACTAGTCGACG\n",
      "GTTAGTCCTGACTAGTCGACG\n",
      "TTAGTCCTGACTAGTCGACG\n",
      "TAGTCCTGACTAGTCGACG\n",
      "AGTCCTGACTAGTCGACG\n",
      "GTCCTGACTAGTCGACG\n",
      "TCCTGACTAGTCGACG\n",
      "CCTGACTAGTCGACG\n",
      "CTGACTAGTCGACG\n",
      "TGACTAGTCGACG\n",
      "GACTAGTCGACG\n",
      "ACTAGTCGACG\n",
      "CTAGTCGACG\n",
      "TAGTCGACG\n",
      "AGTCGACG\n",
      "GTCGACG\n",
      "TCGACG\n",
      "CGACG\n",
      "GACG\n",
      "ACG\n",
      "CG\n",
      "G\n",
      "\n"
     ]
    }
   ],
   "source": [
    "i=0\n",
    "while i<len(seq)+1 :\n",
    "    j=0\n",
    "    while(j<i+1) :\n",
    "        print(seq[j:i])\n",
    "        j=j+1\n",
    "    i=i+1"
   ]
  },
  {
   "cell_type": "code",
   "execution_count": 53,
   "metadata": {
    "collapsed": true
   },
   "outputs": [],
   "source": [
    "l3=[]\n",
    "l1=[1,2,3,2]\n",
    "l2=[1,2,3,4]\n",
    "for elem in l1:            # line 2\n",
    "    if elem in l2 and elem not in l3:            # line 3\n",
    "        l3.append(elem)    # line 4"
   ]
  },
  {
   "cell_type": "code",
   "execution_count": 54,
   "metadata": {
    "collapsed": true
   },
   "outputs": [
    {
     "data": {
      "text/plain": [
       "[1, 2, 3]"
      ]
     },
     "execution_count": 54,
     "metadata": {},
     "output_type": "execute_result"
    }
   ],
   "source": [
    "l3"
   ]
  },
  {
   "cell_type": "code",
   "execution_count": null,
   "metadata": {
    "collapsed": true
   },
   "outputs": [],
   "source": []
  }
 ],
 "metadata": {
  "kernelspec": {
   "display_name": "Python 3",
   "language": "python",
   "name": "python3"
  },
  "language_info": {
   "codemirror_mode": {
    "name": "ipython",
    "version": 3
   },
   "file_extension": ".py",
   "mimetype": "text/x-python",
   "name": "python",
   "nbconvert_exporter": "python",
   "pygments_lexer": "ipython3",
   "version": "3.7.3"
  }
 },
 "nbformat": 4,
 "nbformat_minor": 2
}
