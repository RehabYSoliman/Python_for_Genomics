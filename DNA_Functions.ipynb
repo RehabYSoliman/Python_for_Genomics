{
 "cells": [
  {
   "cell_type": "code",
   "execution_count": 66,
   "metadata": {},
   "outputs": [],
   "source": [
    "#check for presence of stop codon in DNA sequence\n",
    "def findStop(dna):\n",
    "    codon=['TAG','TGA','TAA']\n",
    "    stop=False\n",
    "    for _ in codon:\n",
    "        if _ in dna:\n",
    "            stop=True\n",
    "    return stop"
   ]
  },
  {
   "cell_type": "code",
   "execution_count": 5,
   "metadata": {},
   "outputs": [],
   "source": [
    "#Find stop codon in DNA sequence\n",
    "def findStop(dna):\n",
    "    codon=['TAG','TGA','TAA']\n",
    "    pos=[]\n",
    "    p=0\n",
    "    for _ in codon:\n",
    "        p=dna.find(_)\n",
    "        if p>0:\n",
    "            pos.append(p)\n",
    "    return pos"
   ]
  },
  {
   "cell_type": "code",
   "execution_count": 64,
   "metadata": {},
   "outputs": [],
   "source": [
    "sequence='TCGGGCGAAGGCGGCAGCAAGTCGTCCACGCGCAGCGCGGCACCGCGGGCCTCTGCCGTGCGCTGCTTGGCCATGGCCTCCAGCGCACCGATCGGATCAAAGCCGCTGAAGCCTTCGCGCATCAGGCGGCCATAGTTGGCGCCAGTGACCGTACCAACCGCCTTGATGCGGCGCTCGGTCATCGCTGCATTGATCGAGTAGCCACCGCCGCCGCAAATGCCCAGCACGCCAATGCGTTCTTCATCCACATAGGGGAGCGTTACGAGGTAGTCGCAGACCACGCGGAAATCCTCGACGCGCAGTGTCGGGTCTTCGGTAAAACGTGGTTCGCCGCCGCTGGCACCCTGGAAGCTGGCGTCGAAGGCGATGACGACGAAACCTTCCTTGGCCAGCGCCTCGCCATACACGTTCCCCGATGTTTGCTCCTTGCAGCTGCCGATCGGATGCGCGCTGATGATGGCGGGATATTTCTTGCCTTCGTCGAAGTTCGGCGGGAAGTGGATGTCGGCTGCGATATCCCAATACACATTCTTGATCTTGACGCTTTTCATGACAGCTCCGTTCAGGGGGAGGGGGTAAGTTCGCCAGGCCGAATCGTTGGTAGCCAAGCGGCAACGACTCGAATATAGAGAGCCGATTGGAATTCCGTAAGATCGCAATCTGGACTACAGTGGTATCTTCAAATTGACAATGGCACCTACATGGATCCCTCACTGCTTCCGTCTCTCGCGTGGTTCGCCCACGTCGCACATCATCGTAGCTTCACGAAAGCGGCTGCGGAAATGGGCGTTTCTCGAGCAAACCTGTCGCAGAACGTGAAGGCGCTCGAACGCCGGTTGAACGTCAAGCTGCTGTATCGAACGACTCGCGACATGTCGCTGACCGAGGAGGGGCAGCGGCTCTACGAGGTGTGGTATCCCGCGCTGGTCGCGGTCGAGCGGACGGTCGACGCGCTGCACGAGGAGCGCGACGAGCCGTCGGGGTTGATTC'"
   ]
  },
  {
   "cell_type": "code",
   "execution_count": 65,
   "metadata": {},
   "outputs": [
    {
     "data": {
      "text/plain": [
       "[132, 106, 316]"
      ]
     },
     "execution_count": 65,
     "metadata": {},
     "output_type": "execute_result"
    }
   ],
   "source": [
    "findStop(sequence)"
   ]
  },
  {
   "cell_type": "code",
   "execution_count": 71,
   "metadata": {},
   "outputs": [
    {
     "data": {
      "text/plain": [
       "'CGGGCGAAGGCGGCAGCAAGTCGTCCACGCGCAGCGCGGCACCGCGGGCCTCTGCCGTGCGCTGCTTGGCCATGGCCTCCAGCGCACCGATCGGATCAAAGCCGCTGAAGCCTTCGCGCATCAGGCGGCCATAG'"
      ]
     },
     "execution_count": 71,
     "metadata": {},
     "output_type": "execute_result"
    }
   ],
   "source": [
    "sequence[1:135]"
   ]
  },
  {
   "cell_type": "code",
   "execution_count": 32,
   "metadata": {},
   "outputs": [
    {
     "name": "stdout",
     "output_type": "stream",
     "text": [
      "Help on function findStop in module __main__:\n",
      "\n",
      "findStop(dna)\n",
      "    #Find stop codon in DNA sequence\n",
      "\n"
     ]
    }
   ],
   "source": [
    "help(findStop)"
   ]
  },
  {
   "cell_type": "code",
   "execution_count": 33,
   "metadata": {},
   "outputs": [],
   "source": [
    "#Check if the sequence have errors in there entery by invalid letters\n",
    "def valid_dna(dna):\n",
    "    for c in dna:\n",
    "        if 'c' in 'acgtACGT':\n",
    "            return 'True'\n",
    "        else:\n",
    "            return 'False'"
   ]
  },
  {
   "cell_type": "code",
   "execution_count": 34,
   "metadata": {},
   "outputs": [],
   "source": [
    "#creats string of dna sequence with length n\n",
    "import random\n",
    "def create_dna(n, alphabet='acgt'):\n",
    "    return ''.join([random.choice(alphabet) for i in range(n)])\n"
   ]
  },
  {
   "cell_type": "code",
   "execution_count": 35,
   "metadata": {},
   "outputs": [],
   "source": [
    "d=create_dna(20)"
   ]
  },
  {
   "cell_type": "code",
   "execution_count": 36,
   "metadata": {},
   "outputs": [
    {
     "data": {
      "text/plain": [
       "'agggggaactatcaaaatac'"
      ]
     },
     "execution_count": 36,
     "metadata": {},
     "output_type": "execute_result"
    }
   ],
   "source": [
    "d"
   ]
  },
  {
   "cell_type": "code",
   "execution_count": 37,
   "metadata": {},
   "outputs": [
    {
     "name": "stdout",
     "output_type": "stream",
     "text": [
      "enter file name\n",
      "enter valid file\n"
     ]
    }
   ],
   "source": [
    "#to open a file without system breks if an error occured\n",
    "try:\n",
    "    f=open(input(\"enter file name\"))\n",
    "except IOError:\n",
    "    print(\"enter valid file\")"
   ]
  },
  {
   "cell_type": "code",
   "execution_count": 38,
   "metadata": {},
   "outputs": [],
   "source": [
    "f=open('dna.example.fasta')"
   ]
  },
  {
   "cell_type": "code",
   "execution_count": 39,
   "metadata": {},
   "outputs": [],
   "source": [
    "count=0"
   ]
  },
  {
   "cell_type": "code",
   "execution_count": 8,
   "metadata": {},
   "outputs": [],
   "source": [
    "#How many reads in the file\n",
    "def read_count(filename):\n",
    "    count=0\n",
    "    with open(filename, 'r') as f:\n",
    "        for l in f:\n",
    "            if l.startswith('>'):\n",
    "                count+=1\n",
    "            else:\n",
    "                continue\n",
    "    return count"
   ]
  },
  {
   "cell_type": "code",
   "execution_count": 9,
   "metadata": {},
   "outputs": [],
   "source": [
    "c=read_count('dna.example.fasta')"
   ]
  },
  {
   "cell_type": "code",
   "execution_count": 10,
   "metadata": {},
   "outputs": [
    {
     "name": "stdout",
     "output_type": "stream",
     "text": [
      "25\n"
     ]
    }
   ],
   "source": [
    "print(c)"
   ]
  },
  {
   "cell_type": "code",
   "execution_count": null,
   "metadata": {},
   "outputs": [],
   "source": []
  },
  {
   "cell_type": "code",
   "execution_count": 43,
   "metadata": {},
   "outputs": [],
   "source": [
    "s=dict()"
   ]
  },
  {
   "cell_type": "code",
   "execution_count": 47,
   "metadata": {},
   "outputs": [],
   "source": [
    "#to read thesequence and the identifiers in a FASTA file--invalid \n",
    "for line in f:\n",
    "    line=line.rstrip()\n",
    "    if line.startswith('>'):\n",
    "        head=line.split()\n",
    "        k=head[0][1:15]\n",
    "        s.update({k:''})\n",
    "    else:\n",
    "        s[k]=s[k]+line"
   ]
  },
  {
   "cell_type": "code",
   "execution_count": 48,
   "metadata": {},
   "outputs": [
    {
     "name": "stdout",
     "output_type": "stream",
     "text": [
      "gi|142022655|g CACATCGACACGAAGATCACCGCGCATGCGTTGCTGATCACGCTCGTCAGCGCGCGTGCCTCGGACATGAAGCGATCGATGCCGACCAGCAGTGCGACACCGGCGACGGGCAGGTCGGGCATGACGACGAGCGTGGCGACCAGCGCAACCAGCCCGCTTCCGGAAACGCCGGCCGCGCCCTTGGACGTGAGCAGCATGATGGCGAGCATCACGGCGATCTGCGACGCGGAAAGGGGCACGTCGCACGCCTGCGCGATGAACAACGCGGCGAGCGTCAGATAGATCGCGGTACCGTCCAGATTGAACGAATAACCCGCCGGCAGCACGAGCCCCACGACGCCCTTGTCGCACCCGAGCGATTCCAGCTTGACGATCAGGCGTGGCAGAACGGGCTCCGAAGAGGACGTCGCGAGGACGATGAGCAACTCTTCGCGCAGGTAGCGCAAGAGCCGCCACAGCGCGAAGCCGTGCAGCCGCGCGAGCGGGGCGAGCACCAGTGCGACGAACAGCCCGCAGGCCACGTAGAAGGACAGCATCAGCTTCGCGAGCGAGCCGATCGAGCCGATTCCGAAGCGGCCCACCGTGAAGGCCATCGCGCCGAATGCGCCGAGCGGCGCGAGCCGCATGATCATCGCGAGCACGCGAAAGACGACCTGGGCGACGCCGTCGATCAGTGCAAGAACGGGCCGCCCGGCCCGCGGGTGTGCGTTCAGCGAGAAGCCGAACAACAGCGACAGCAGCAGCACCGGCAACACCTCGCCTTTCTCGAACGCGCCGAGCATCGTATCGGGGATCACGCTCAGCCCGAACGCGACGAGCCCGTTCGGTTGCGCGTCCCTCACGTACGGCGCGAGGATGCGCGAATCGAGATGGTGGACGTCGATGTGCATGCCGGCGCCCGGTTGCAACACGAACGCGGTGATGAGCCCGATGGCGAGCGCGACGGCGGTGAGCAGATAGAAGAGCGCGAGCGCCCGCACGATCGTGCGGCCGATTGCCTGCCCGTTCGCCAGCGACGTGATGCCCGAGACGATCGTGCAGAACACGATCGGCGCGATGGTCATCCTCACGAGGCCGACGAACGCGTCGCTGAGCGGTTTGAACATCGCGCCTGCGTCCGGCCATACATGACCGACGGTCACGCCGAGCAGCATCGCGAGCAGGACCTGCACGTAGAGCGATTTGAGCAGCCTGGCCAACCTCACGGAACGGTCTTCCTTCGTGTCTCTTGTGTCGTTGTCACACCGATGCATCGCTGTTCGCGATGCCGTCGCGCTTCGCGTCGACGATCATCCGGTGAAATGCTTCGGCGGCCGGCGTGAGCGGCCGTCCGCGCCGCTTGACGATGCCCACGCGGCGTTTGACGACCGGCTCGACGAGCGGCACGCTCGTGAGAATCGGGTGGTCGTGCCCGGGCATCGCCATCGACGGCACCGCGGCGACGCCGAGCCCCGCCTCGATCAAGCCGAGCAGGGTCGTCACGTGGCGCGCTTCGCATACGCTCGGCCCCCGCGGCGCCACGGCGGCCAGCGCCTGGTCGAGCAACAGGCGGTTCCCGGAAGTCTTGTCCACCGACACGTAATCGTGCTCGTACAGTTCGTTCCAGGTAACGCGCTTCTTGCGCGCGAGCGGATGGTCGCGGCGGCAGGCAGCGACGAACCGCTCCTGGAGCAACATCTTGAACTCGATGTCGGATTCCTGGCTGCCCATGAAGCTCACGCCGAAATCGGCTTCGCCGCTGATGACGGCGCCCAGCACCTCGTTCGCGCTCGCGTCCAGCAGCTTGACCCGGATGCGCGGAAAGCGCTGATGATAGCGCGCGATGATGGCCGGCAGAAAGTAGTAGGCGACCGAGGGCACGCACGCGATGGTCACATGGCCCAGGCGGCTCGACGACACGTCGCGAATGCCGAGCAGCGCCGCATCGAGATCGTCGAGCAGCTGTTCGGCGCTCTGGGCGAACACGCGGCCGACCGTGGTGAGCGCGACGCGACGCGTGGTGCGCTCGAACAGGCGCACGCCGAGCGCTTCCTCGAGCTTGTCGATCCGGCGACTCAACGCGGGCTGGGAAATGCTGACCGATTCCGCGGCCTTGCGGAAACTGCCCGTTTCCACGACCGCGCGAAACGCCTGCAAGTCGTTCAAGTCGAAGTTGATCCCCACGGGCGCGTCTCCCCATCTCAGATGGGGCGTATTTTGCATGATTTCGCCGGGCGGCCGCATCGGCGCGGCACGCATTCGCGCCACCCTCGATCGCAACCGCGTGCGTGAGCGTGCGGCCTGGCCGTCGATCCGCCGCGCGTCGATGTCGATGGGGGGCGTCGAGCCTGCGGGCCTTACGGCGCAAGCAGGCCGCGTGCGGCCAGATTGGCATACAGCGCGCGCACGCCGAAGGTCCAAGGCGCGATCTCGGTGCACAGCCGCACGGTGTTGACGAGTGCGCCGAGCG\n"
     ]
    }
   ],
   "source": [
    "for key,val in s.items():\n",
    "    print(key,val)"
   ]
  },
  {
   "cell_type": "code",
   "execution_count": 1,
   "metadata": {},
   "outputs": [],
   "source": [
    "\n",
    "#to read thesequence and the identifiers in a FASTA file\n",
    "def sequences(filename):\n",
    "    #Reads sequences and the identifiers from FASTA and puts it in a single dictionary\n",
    "    f=open(filename)\n",
    "    s=dict()\n",
    "    for line in f:\n",
    "        line=line.rstrip()\n",
    "        if line.startswith('>'):\n",
    "            head=line.split()\n",
    "            k=head[0]\n",
    "            s[k]=\" \"\n",
    "        else:\n",
    "            s[k]=s[k]+line\n",
    "    return s"
   ]
  },
  {
   "cell_type": "code",
   "execution_count": 13,
   "metadata": {},
   "outputs": [],
   "source": [
    "s=sequences(\"dna.example.fasta\")"
   ]
  },
  {
   "cell_type": "code",
   "execution_count": 4,
   "metadata": {},
   "outputs": [
    {
     "data": {
      "text/plain": [
       "25"
      ]
     },
     "execution_count": 4,
     "metadata": {},
     "output_type": "execute_result"
    }
   ],
   "source": [
    "len(s)"
   ]
  },
  {
   "cell_type": "code",
   "execution_count": null,
   "metadata": {},
   "outputs": [],
   "source": [
    "for key,val in s.items():\n",
    "    print(key,val)"
   ]
  },
  {
   "cell_type": "code",
   "execution_count": null,
   "metadata": {},
   "outputs": [],
   "source": [
    "stop_codons_per_read=dict()\n",
    "for key,val in s.items():\n",
    "    stop_codons_per_read.update({key:findStop(val)})\n",
    "print(stop_codons_per_read)"
   ]
  },
  {
   "cell_type": "code",
   "execution_count": 7,
   "metadata": {},
   "outputs": [
    {
     "name": "stdout",
     "output_type": "stream",
     "text": [
      ">gi|142022655|gb|EQ086233.1|43 [133, 107, 317]\n",
      ">gi|142022655|gb|EQ086233.1|160 [442, 19, 479]\n",
      ">gi|142022655|gb|EQ086233.1|41 [902, 15, 1363]\n",
      ">gi|142022655|gb|EQ086233.1|221 [78, 12, 69]\n",
      ">gi|142022655|gb|EQ086233.1|294 [250, 139, 443]\n",
      ">gi|142022655|gb|EQ086233.1|323 [4217, 42, 4553]\n",
      ">gi|142022655|gb|EQ086233.1|564 [5, 95, 60]\n",
      ">gi|142022655|gb|EQ086233.1|521 [24, 37]\n",
      ">gi|142022655|gb|EQ086233.1|455 [33, 53]\n",
      ">gi|142022655|gb|EQ086233.1|229 [1433, 123, 2702]\n",
      ">gi|142022655|gb|EQ086233.1|422 [10, 118, 7]\n",
      ">gi|142022655|gb|EQ086233.1|384 [200, 57, 969]\n",
      ">gi|142022655|gb|EQ086233.1|280 [291, 25, 111]\n",
      ">gi|142022655|gb|EQ086233.1|158 [616, 39, 497]\n",
      ">gi|142022655|gb|EQ086233.1|59 [80, 3, 1911]\n",
      ">gi|142022655|gb|EQ086233.1|319 [902, 75, 634]\n",
      ">gi|142022655|gb|EQ086233.1|438 [303, 9, 113]\n",
      ">gi|142022655|gb|EQ086233.1|210 [373, 140, 210]\n",
      ">gi|142022655|gb|EQ086233.1|237 [9, 31, 1184]\n",
      ">gi|142022655|gb|EQ086233.1|507 [57, 19, 145]\n",
      ">gi|142022655|gb|EQ086233.1|350 [264, 169, 991]\n",
      ">gi|142022655|gb|EQ086233.1|245 [254, 51, 105]\n",
      ">gi|142022655|gb|EQ086233.1|279 [287, 6, 968]\n",
      ">gi|142022655|gb|EQ086233.1|378 [102, 220, 144]\n",
      ">gi|142022655|gb|EQ086233.1|101 [280, 35, 310]\n"
     ]
    }
   ],
   "source": [
    "for key,val in stop_codons_per_read.items():\n",
    "    print(key,val)"
   ]
  },
  {
   "cell_type": "code",
   "execution_count": 11,
   "metadata": {},
   "outputs": [],
   "source": [
    "def seq_len(s):\n",
    "    #counts each sequence length\n",
    "    seq_length=dict()\n",
    "    for k,v in s.items():\n",
    "        seq_length.update({k:len(v)})\n",
    "    return seq_length"
   ]
  },
  {
   "cell_type": "code",
   "execution_count": 14,
   "metadata": {},
   "outputs": [],
   "source": [
    "sequence_length=seq_len(s)"
   ]
  },
  {
   "cell_type": "code",
   "execution_count": 16,
   "metadata": {},
   "outputs": [
    {
     "name": "stdout",
     "output_type": "stream",
     "text": [
      "{'>gi|142022655|gb|EQ086233.1|43': 991, '>gi|142022655|gb|EQ086233.1|160': 725, '>gi|142022655|gb|EQ086233.1|41': 3081, '>gi|142022655|gb|EQ086233.1|221': 2864, '>gi|142022655|gb|EQ086233.1|294': 3833, '>gi|142022655|gb|EQ086233.1|323': 4806, '>gi|142022655|gb|EQ086233.1|564': 1664, '>gi|142022655|gb|EQ086233.1|521': 513, '>gi|142022655|gb|EQ086233.1|455': 692, '>gi|142022655|gb|EQ086233.1|229': 3073, '>gi|142022655|gb|EQ086233.1|422': 1802, '>gi|142022655|gb|EQ086233.1|384': 3604, '>gi|142022655|gb|EQ086233.1|280': 2479, '>gi|142022655|gb|EQ086233.1|158': 1609, '>gi|142022655|gb|EQ086233.1|59': 4746, '>gi|142022655|gb|EQ086233.1|319': 1811, '>gi|142022655|gb|EQ086233.1|438': 3425, '>gi|142022655|gb|EQ086233.1|210': 1452, '>gi|142022655|gb|EQ086233.1|237': 3277, '>gi|142022655|gb|EQ086233.1|507': 2125, '>gi|142022655|gb|EQ086233.1|350': 1713, '>gi|142022655|gb|EQ086233.1|245': 1326, '>gi|142022655|gb|EQ086233.1|279': 1190, '>gi|142022655|gb|EQ086233.1|378': 556, '>gi|142022655|gb|EQ086233.1|101': 2450}\n"
     ]
    }
   ],
   "source": [
    "seq_len_sorted=[]\n",
    "print(seq_len(s))"
   ]
  },
  {
   "cell_type": "code",
   "execution_count": 17,
   "metadata": {},
   "outputs": [],
   "source": [
    "seq_len_sorted=sorted(sequence_length.items(),key=lambda kv:kv[1])"
   ]
  },
  {
   "cell_type": "code",
   "execution_count": 55,
   "metadata": {},
   "outputs": [
    {
     "data": {
      "text/plain": [
       "[('>gi|142022655|gb|EQ086233.1|521', 513),\n",
       " ('>gi|142022655|gb|EQ086233.1|378', 556),\n",
       " ('>gi|142022655|gb|EQ086233.1|455', 692),\n",
       " ('>gi|142022655|gb|EQ086233.1|160', 725),\n",
       " ('>gi|142022655|gb|EQ086233.1|43', 991),\n",
       " ('>gi|142022655|gb|EQ086233.1|279', 1190),\n",
       " ('>gi|142022655|gb|EQ086233.1|245', 1326),\n",
       " ('>gi|142022655|gb|EQ086233.1|210', 1452),\n",
       " ('>gi|142022655|gb|EQ086233.1|158', 1609),\n",
       " ('>gi|142022655|gb|EQ086233.1|564', 1664),\n",
       " ('>gi|142022655|gb|EQ086233.1|350', 1713),\n",
       " ('>gi|142022655|gb|EQ086233.1|422', 1802),\n",
       " ('>gi|142022655|gb|EQ086233.1|319', 1811),\n",
       " ('>gi|142022655|gb|EQ086233.1|507', 2125),\n",
       " ('>gi|142022655|gb|EQ086233.1|101', 2450),\n",
       " ('>gi|142022655|gb|EQ086233.1|280', 2479),\n",
       " ('>gi|142022655|gb|EQ086233.1|221', 2864),\n",
       " ('>gi|142022655|gb|EQ086233.1|229', 3073),\n",
       " ('>gi|142022655|gb|EQ086233.1|41', 3081),\n",
       " ('>gi|142022655|gb|EQ086233.1|237', 3277),\n",
       " ('>gi|142022655|gb|EQ086233.1|438', 3425),\n",
       " ('>gi|142022655|gb|EQ086233.1|384', 3604),\n",
       " ('>gi|142022655|gb|EQ086233.1|294', 3833),\n",
       " ('>gi|142022655|gb|EQ086233.1|59', 4746),\n",
       " ('>gi|142022655|gb|EQ086233.1|323', 4806)]"
      ]
     },
     "execution_count": 55,
     "metadata": {},
     "output_type": "execute_result"
    }
   ],
   "source": [
    "seq_len_sorted"
   ]
  },
  {
   "cell_type": "code",
   "execution_count": 56,
   "metadata": {},
   "outputs": [
    {
     "name": "stdout",
     "output_type": "stream",
     "text": [
      "longest read ('>gi|142022655|gb|EQ086233.1|323', 4806) \n",
      " shortest read ('>gi|142022655|gb|EQ086233.1|521', 513)\n"
     ]
    }
   ],
   "source": [
    "longest_seq=seq_len_sorted[-1]\n",
    "shortest_seq=seq_len_sorted[0]\n",
    "print('longest read %s \\n shortest read %s'%(longest_seq,shortest_seq))"
   ]
  },
  {
   "cell_type": "code",
   "execution_count": null,
   "metadata": {},
   "outputs": [],
   "source": []
  }
 ],
 "metadata": {
  "kernelspec": {
   "display_name": "Python 3",
   "language": "python",
   "name": "python3"
  },
  "language_info": {
   "codemirror_mode": {
    "name": "ipython",
    "version": 3
   },
   "file_extension": ".py",
   "mimetype": "text/x-python",
   "name": "python",
   "nbconvert_exporter": "python",
   "pygments_lexer": "ipython3",
   "version": "3.7.3"
  }
 },
 "nbformat": 4,
 "nbformat_minor": 2
}
