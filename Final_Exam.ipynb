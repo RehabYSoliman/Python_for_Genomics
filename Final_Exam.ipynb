{
 "cells": [
  {
   "cell_type": "code",
   "execution_count": 1,
   "metadata": {},
   "outputs": [],
   "source": [
    "trial_seq='>lcl|JF909299.1_cds_AEG19452.1_1 [gene=INS] [protein=insulin] [frame=2] [protein_id=AEG19452.1] [location=<1..>285] [gbkey=CDS]TGGGGACCTGACCCAGCCGCAGCCTTTGTGAACCAACACCTGTGCGGCTCACACCTGGTGGAAGCTCTCTACCTAGTGTGCGGGGAACGAGGCTTCTTCTACACACCCAAGACCCGCCGGGAGGCAGAGGACCTGCAGGTGGGGCAGGTGGAGCTGGGCGGGGGCCCTGGTGCAGGCAGCCTGCAGCCCTTGGCCCTGGAGGGGTCCCTGCAGAAGCGTGGCATTGTGGAACAATGCTGTACCAGCATCTGCTCCCTCTACCAGCTGGAGAACTACTGCAACTA'"
   ]
  },
  {
   "cell_type": "code",
   "execution_count": 1,
   "metadata": {},
   "outputs": [],
   "source": [
    "#reads number of records in a FASTA  file\n",
    "def read_count(filename):\n",
    "    count=0\n",
    "    with open(filename, 'r') as f:\n",
    "        for l in f:\n",
    "            if l.startswith('>'):\n",
    "                count+=1\n",
    "            else:\n",
    "                continue\n",
    "    return count"
   ]
  },
  {
   "cell_type": "code",
   "execution_count": 2,
   "metadata": {},
   "outputs": [],
   "source": [
    "#to read thesequence and the identifiers in a FASTA file\n",
    "def sequences(filename):\n",
    "    #Reads sequences and the identifiers from FASTA and puts it in a single dictionary\n",
    "    f=open(filename)\n",
    "    s=dict()\n",
    "    for line in f:\n",
    "        line=line.rstrip()\n",
    "        if line.startswith('>'):\n",
    "            head=line.split()\n",
    "            k=head[0]\n",
    "            s[k]=\" \"\n",
    "        else:\n",
    "            s[k]=s[k]+line\n",
    "    return s"
   ]
  },
  {
   "cell_type": "code",
   "execution_count": 2,
   "metadata": {},
   "outputs": [],
   "source": [
    "insulin=sequences('insulin.txt')"
   ]
  },
  {
   "cell_type": "code",
   "execution_count": 7,
   "metadata": {},
   "outputs": [
    {
     "data": {
      "text/plain": [
       "' TGGGGACCT'"
      ]
     },
     "execution_count": 7,
     "metadata": {},
     "output_type": "execute_result"
    }
   ],
   "source": [
    "insulin['>lcl|JF909299.1_cds_AEG19452.1_1'][0:10]"
   ]
  },
  {
   "cell_type": "code",
   "execution_count": 3,
   "metadata": {},
   "outputs": [],
   "source": [
    "def seq_len(s):\n",
    "    #counts each sequence length\n",
    "    seq_length=dict()\n",
    "    for k,v in s.items():\n",
    "        seq_length.update({k:len(v)})\n",
    "    return seq_length"
   ]
  },
  {
   "cell_type": "code",
   "execution_count": 9,
   "metadata": {},
   "outputs": [],
   "source": [
    "trial_seq_length=seq_len(insulin)"
   ]
  },
  {
   "cell_type": "code",
   "execution_count": 10,
   "metadata": {},
   "outputs": [
    {
     "data": {
      "text/plain": [
       "{'>lcl|JF909299.1_cds_AEG19452.1_1': 285,\n",
       " '>lcl|AH002844.2_cds_AAA59172.1_1': 334,\n",
       " '>lcl|L15440.1_cds_AAA59179.1_1': 325}"
      ]
     },
     "execution_count": 10,
     "metadata": {},
     "output_type": "execute_result"
    }
   ],
   "source": [
    "trial_seq_length"
   ]
  },
  {
   "cell_type": "code",
   "execution_count": 4,
   "metadata": {},
   "outputs": [],
   "source": [
    "#sort sequences by length\n",
    "s=sequences(\"dna2.fasta\")\n",
    "sequence_length=seq_len(s)\n",
    "seq_len_sorted=sorted(sequence_length.items(),key=lambda kv:kv[1])"
   ]
  },
  {
   "cell_type": "code",
   "execution_count": 3,
   "metadata": {},
   "outputs": [
    {
     "name": "stdout",
     "output_type": "stream",
     "text": [
      " TGGGGACCTGACCCAGCCGCAGCCTTTGTGAACCAACACCTGTGCGGCTCACACCTGGTGGAAGCTCTCTACCTAGTGTGCGGGGAACGAGGCTTCTTCTACACACCCAAGACCCGCCGGGAGGCAGAGGACCTGCAGGTGGGGCAGGTGGAGCTGGGCGGGGGCCCTGGTGCAGGCAGCCTGCAGCCCTTGGCCCTGGAGGGGTCCCTGCAGAAGCGTGGCATTGTGGAACAATGCTGTACCAGCATCTGCTCCCTCTACCAGCTGGAGAACTACTGCAACTA ATGGCCCTGTGGATGCGCCTCCTGCCCCTGCTGGCGCTGCTGGCCCTCTGGGGACCTGACCCAGCCGCAGCCTTTGTGAACCAACACCTGTGCGGCTCACACCTGGTGGAAGCTCTCTACCTAGTGTGCGGGGAACGAGGCTTCTTCTACACACCCAAGACCCGCCGGGAGGCAGAGGACCTGCAGGTGGGGCAGGTGGAGCTGGGCGGGGGCCCTGGTGCAGGCAGCCTGCAGCCCTTGGCCCTGGAGGGGTCCCTGCAGAAGCGTGGCATTGTGGAACAATGCTGTACCAGCATCTGCTCCCTCTACCAGCTGGAGAACTACTGCAACTAG ATGGCCCTGTGGATGCGCCTCCTGCCCCTGCTGGCGCTGCTGGCCCTCTGGGGACCTGACCCAGCCGCAGCCTTTGTGAACCAACACCTGTGCGGCTCACACCTGGTGGAAGCTCTCTACCTAGTGTGCGGGGAACGAGGCTTCTTCTACACACCCAAGACCCGCCGGGAGGCAGAGGTGGGGCAGGTGGAGCTGGGCGGGGGCCCTGGTGCAGGCAGCCTGCAGCCCTTGGCCCTGGAGGGGTCCCTGCAGAAGCGTGGCATTGTGGAACAATGCTGTACCAGCATCTGCTCCCTCTACCAGCTGGAGAACTACTGCAACTAG\n"
     ]
    }
   ],
   "source": [
    "complete_seq=''\n",
    "for k,v in insulin.items():\n",
    "    complete_seq=complete_seq+v\n",
    "\n",
    "print(complete_seq)"
   ]
  },
  {
   "cell_type": "code",
   "execution_count": 5,
   "metadata": {},
   "outputs": [
    {
     "data": {
      "text/plain": [
       "18"
      ]
     },
     "execution_count": 5,
     "metadata": {},
     "output_type": "execute_result"
    }
   ],
   "source": [
    "len(s)"
   ]
  },
  {
   "cell_type": "code",
   "execution_count": 6,
   "metadata": {},
   "outputs": [
    {
     "data": {
      "text/plain": [
       "116"
      ]
     },
     "execution_count": 6,
     "metadata": {},
     "output_type": "execute_result"
    }
   ],
   "source": [
    "seq_len_sorted[0][1]"
   ]
  },
  {
   "cell_type": "code",
   "execution_count": 7,
   "metadata": {},
   "outputs": [
    {
     "name": "stdout",
     "output_type": "stream",
     "text": [
      "longest read ('>gi|142022655|gb|EQ086233.1|255', 4895) \n",
      " shortest read ('>gi|142022655|gb|EQ086233.1|346', 116)\n"
     ]
    }
   ],
   "source": [
    "longest_seq=seq_len_sorted[-1]\n",
    "shortest_seq=seq_len_sorted[0]\n",
    "print('longest read %s \\n shortest read %s'%(longest_seq,shortest_seq))"
   ]
  },
  {
   "cell_type": "code",
   "execution_count": 8,
   "metadata": {},
   "outputs": [],
   "source": [
    "#check for sequences of same length\n",
    "def same_length_check(l):\n",
    "    i=0\n",
    "    check=False\n",
    "    for i in range (len(l)-1):\n",
    "        if l[i][1]==l[i+1][1]:\n",
    "            check=True\n",
    "    return check\n",
    "        "
   ]
  },
  {
   "cell_type": "code",
   "execution_count": 9,
   "metadata": {},
   "outputs": [
    {
     "data": {
      "text/plain": [
       "False"
      ]
     },
     "execution_count": 9,
     "metadata": {},
     "output_type": "execute_result"
    }
   ],
   "source": [
    "same_length_check(seq_len_sorted)"
   ]
  },
  {
   "cell_type": "code",
   "execution_count": 10,
   "metadata": {},
   "outputs": [],
   "source": [
    "#check for presence of stop codon in DNA sequence\n",
    "def findStop(dna):\n",
    "    codon=['TAG','TGA','TAA']\n",
    "    stop=False\n",
    "    for _ in codon:\n",
    "        if _ in dna:\n",
    "            stop=True\n",
    "    return stop"
   ]
  },
  {
   "cell_type": "code",
   "execution_count": 11,
   "metadata": {},
   "outputs": [],
   "source": [
    "#Find stop codon in DNA sequence\n",
    "def findStop(dna):\n",
    "    codon=['TAG','TGA','TAA']\n",
    "    pos=[]\n",
    "    p=0\n",
    "    for _ in codon:\n",
    "        p=dna.find(_)\n",
    "        if p>0:\n",
    "            pos.append(p)\n",
    "    return pos"
   ]
  },
  {
   "cell_type": "code",
   "execution_count": 12,
   "metadata": {},
   "outputs": [
    {
     "name": "stdout",
     "output_type": "stream",
     "text": [
      ">gi|142022655|gb|EQ086233.1|91 [1052, 44, 515]\n",
      ">gi|142022655|gb|EQ086233.1|304 [11, 57, 125]\n",
      ">gi|142022655|gb|EQ086233.1|255 [155, 47, 2566]\n",
      ">gi|142022655|gb|EQ086233.1|45 [1529, 82, 174]\n",
      ">gi|142022655|gb|EQ086233.1|396 [716, 143, 1074]\n",
      ">gi|142022655|gb|EQ086233.1|250 [137, 247, 2119]\n",
      ">gi|142022655|gb|EQ086233.1|322 [276]\n",
      ">gi|142022655|gb|EQ086233.1|88 [199]\n",
      ">gi|142022655|gb|EQ086233.1|594 [758, 29, 276]\n",
      ">gi|142022655|gb|EQ086233.1|293 [673, 59, 56]\n",
      ">gi|142022655|gb|EQ086233.1|75 [3, 55, 1045]\n",
      ">gi|142022655|gb|EQ086233.1|454 [1744, 229, 2406]\n",
      ">gi|142022655|gb|EQ086233.1|16 [4700, 44, 4786]\n",
      ">gi|142022655|gb|EQ086233.1|584 [72, 106, 17]\n",
      ">gi|142022655|gb|EQ086233.1|4 [8, 185]\n",
      ">gi|142022655|gb|EQ086233.1|277 [148, 937]\n",
      ">gi|142022655|gb|EQ086233.1|346 [59]\n",
      ">gi|142022655|gb|EQ086233.1|527 [51, 22, 531]\n"
     ]
    }
   ],
   "source": [
    "stop_codons_per_read=dict()\n",
    "for key,val in s.items():\n",
    "    stop_codons_per_read.update({key:findStop(val)})\n",
    "for key,val in stop_codons_per_read.items():\n",
    "    print(key,val)"
   ]
  },
  {
   "cell_type": "code",
   "execution_count": 13,
   "metadata": {},
   "outputs": [
    {
     "name": "stdout",
     "output_type": "stream",
     "text": [
      "1052\n",
      "44\n",
      "515\n",
      "11\n",
      "57\n",
      "125\n",
      "155\n",
      "47\n",
      "2566\n",
      "1529\n",
      "82\n",
      "174\n",
      "716\n",
      "143\n",
      "1074\n",
      "137\n",
      "247\n",
      "2119\n",
      "276\n",
      "199\n",
      "758\n",
      "29\n",
      "276\n",
      "673\n",
      "59\n",
      "56\n",
      "3\n",
      "55\n",
      "1045\n",
      "1744\n",
      "229\n",
      "2406\n",
      "4700\n",
      "44\n",
      "4786\n",
      "72\n",
      "106\n",
      "17\n",
      "8\n",
      "185\n",
      "148\n",
      "937\n",
      "59\n",
      "51\n",
      "22\n",
      "531\n"
     ]
    }
   ],
   "source": [
    "for k,v in stop_codons_per_read.items():\n",
    "    for _ in v:\n",
    "        print (_)"
   ]
  },
  {
   "cell_type": "code",
   "execution_count": 23,
   "metadata": {},
   "outputs": [],
   "source": [
    "#Find Start codon in DNA sequence\n",
    "def findStart(dna,n):\n",
    "    start_pos=dict()\n",
    "    for x in dna:\n",
    "        pos=[]\n",
    "        p=0\n",
    "        p=x.find('ATG',n)\n",
    "        if p>0:\n",
    "            if p not in pos:\n",
    "                pos.append(p)\n",
    "        \n",
    "    return pos"
   ]
  },
  {
   "cell_type": "code",
   "execution_count": 24,
   "metadata": {},
   "outputs": [
    {
     "name": "stdout",
     "output_type": "stream",
     "text": [
      ">gi|142022655|gb|EQ086233.1|91 [77]\n",
      ">gi|142022655|gb|EQ086233.1|304 [131]\n",
      ">gi|142022655|gb|EQ086233.1|255 [71]\n",
      ">gi|142022655|gb|EQ086233.1|45 [158]\n",
      ">gi|142022655|gb|EQ086233.1|396 [145]\n",
      ">gi|142022655|gb|EQ086233.1|250 [104]\n",
      ">gi|142022655|gb|EQ086233.1|322 [90]\n",
      ">gi|142022655|gb|EQ086233.1|88 [82]\n",
      ">gi|142022655|gb|EQ086233.1|594 [28]\n",
      ">gi|142022655|gb|EQ086233.1|293 [22]\n",
      ">gi|142022655|gb|EQ086233.1|75 [57]\n",
      ">gi|142022655|gb|EQ086233.1|454 [145]\n",
      ">gi|142022655|gb|EQ086233.1|16 [111]\n",
      ">gi|142022655|gb|EQ086233.1|584 [160]\n",
      ">gi|142022655|gb|EQ086233.1|4 [1]\n",
      ">gi|142022655|gb|EQ086233.1|277 [187]\n",
      ">gi|142022655|gb|EQ086233.1|346 [79]\n",
      ">gi|142022655|gb|EQ086233.1|527 [21]\n"
     ]
    }
   ],
   "source": [
    "start_codons_per_read=dict()\n",
    "for key,val in s.items():\n",
    "    start_codons_per_read.update({key:findStart(val,2)})\n",
    "for key,val in start_codons_per_read.items():\n",
    "    print(key,val)"
   ]
  },
  {
   "cell_type": "code",
   "execution_count": 23,
   "metadata": {},
   "outputs": [
    {
     "ename": "KeyError",
     "evalue": "'>gi|142022655|gb|EQ086233.1|210'",
     "output_type": "error",
     "traceback": [
      "\u001b[1;31m---------------------------------------------------------------------------\u001b[0m",
      "\u001b[1;31mKeyError\u001b[0m                                  Traceback (most recent call last)",
      "\u001b[1;32m<ipython-input-23-d37fe716deb2>\u001b[0m in \u001b[0;36m<module>\u001b[1;34m\u001b[0m\n\u001b[1;32m----> 1\u001b[1;33m \u001b[0mstart_codons_per_read\u001b[0m\u001b[1;33m[\u001b[0m\u001b[1;34m'>gi|142022655|gb|EQ086233.1|210'\u001b[0m\u001b[1;33m]\u001b[0m\u001b[1;33m[\u001b[0m\u001b[1;36m0\u001b[0m\u001b[1;33m]\u001b[0m\u001b[1;33m\u001b[0m\u001b[1;33m\u001b[0m\u001b[0m\n\u001b[0m",
      "\u001b[1;31mKeyError\u001b[0m: '>gi|142022655|gb|EQ086233.1|210'"
     ]
    }
   ],
   "source": [
    "start_codons_per_read['>gi|142022655|gb|EQ086233.1|210'][0]"
   ]
  },
  {
   "cell_type": "code",
   "execution_count": 24,
   "metadata": {},
   "outputs": [],
   "source": [
    "def ORF_finder(seq,start,stop):\n",
    "    #Reads ORF in each sequenece \n",
    "    ORF=dict()\n",
    "    for key, val in start.items():\n",
    "        for k,v in stop.items():\n",
    "            for _ in v:\n",
    "                ORF.update({key:''})\n",
    "                ORF[key]=seq[key][[val][0]:seq[key][_]]\n",
    "    return ORF"
   ]
  },
  {
   "cell_type": "code",
   "execution_count": 25,
   "metadata": {},
   "outputs": [
    {
     "ename": "TypeError",
     "evalue": "slice indices must be integers or None or have an __index__ method",
     "output_type": "error",
     "traceback": [
      "\u001b[1;31m---------------------------------------------------------------------------\u001b[0m",
      "\u001b[1;31mTypeError\u001b[0m                                 Traceback (most recent call last)",
      "\u001b[1;32m<ipython-input-25-34424bac39a7>\u001b[0m in \u001b[0;36m<module>\u001b[1;34m\u001b[0m\n\u001b[1;32m----> 1\u001b[1;33m \u001b[0mopen_reading_frames\u001b[0m\u001b[1;33m=\u001b[0m\u001b[0mORF_finder\u001b[0m\u001b[1;33m(\u001b[0m\u001b[0ms\u001b[0m\u001b[1;33m,\u001b[0m\u001b[0mstart_codons_per_read\u001b[0m\u001b[1;33m,\u001b[0m\u001b[0mstop_codons_per_read\u001b[0m\u001b[1;33m)\u001b[0m\u001b[1;33m\u001b[0m\u001b[1;33m\u001b[0m\u001b[0m\n\u001b[0m",
      "\u001b[1;32m<ipython-input-24-eba33d64f51e>\u001b[0m in \u001b[0;36mORF_finder\u001b[1;34m(seq, start, stop)\u001b[0m\n\u001b[0;32m      6\u001b[0m             \u001b[1;32mfor\u001b[0m \u001b[0m_\u001b[0m \u001b[1;32min\u001b[0m \u001b[0mv\u001b[0m\u001b[1;33m:\u001b[0m\u001b[1;33m\u001b[0m\u001b[1;33m\u001b[0m\u001b[0m\n\u001b[0;32m      7\u001b[0m                 \u001b[0mORF\u001b[0m\u001b[1;33m.\u001b[0m\u001b[0mupdate\u001b[0m\u001b[1;33m(\u001b[0m\u001b[1;33m{\u001b[0m\u001b[0mkey\u001b[0m\u001b[1;33m:\u001b[0m\u001b[1;34m''\u001b[0m\u001b[1;33m}\u001b[0m\u001b[1;33m)\u001b[0m\u001b[1;33m\u001b[0m\u001b[1;33m\u001b[0m\u001b[0m\n\u001b[1;32m----> 8\u001b[1;33m                 \u001b[0mORF\u001b[0m\u001b[1;33m[\u001b[0m\u001b[0mkey\u001b[0m\u001b[1;33m]\u001b[0m\u001b[1;33m=\u001b[0m\u001b[0mseq\u001b[0m\u001b[1;33m[\u001b[0m\u001b[0mkey\u001b[0m\u001b[1;33m]\u001b[0m\u001b[1;33m[\u001b[0m\u001b[1;33m[\u001b[0m\u001b[0mval\u001b[0m\u001b[1;33m]\u001b[0m\u001b[1;33m[\u001b[0m\u001b[1;36m0\u001b[0m\u001b[1;33m]\u001b[0m\u001b[1;33m:\u001b[0m\u001b[0mseq\u001b[0m\u001b[1;33m[\u001b[0m\u001b[0mkey\u001b[0m\u001b[1;33m]\u001b[0m\u001b[1;33m[\u001b[0m\u001b[0m_\u001b[0m\u001b[1;33m]\u001b[0m\u001b[1;33m]\u001b[0m\u001b[1;33m\u001b[0m\u001b[1;33m\u001b[0m\u001b[0m\n\u001b[0m\u001b[0;32m      9\u001b[0m     \u001b[1;32mreturn\u001b[0m \u001b[0mORF\u001b[0m\u001b[1;33m\u001b[0m\u001b[1;33m\u001b[0m\u001b[0m\n",
      "\u001b[1;31mTypeError\u001b[0m: slice indices must be integers or None or have an __index__ method"
     ]
    }
   ],
   "source": [
    "open_reading_frames=ORF_finder(s,start_codons_per_read,stop_codons_per_read)"
   ]
  },
  {
   "cell_type": "code",
   "execution_count": 4,
   "metadata": {},
   "outputs": [],
   "source": [
    "def get_n_seq(seq,n,start,returnBack=''):\n",
    "    try:\n",
    "        if(len(returnBack)==n):\n",
    "            return returnBack\n",
    "        else:\n",
    "            returnBack +=seq[start]\n",
    "            return get_n_seq(seq,n,(start+1),returnBack)\n",
    "    except:\n",
    "        return returnBack"
   ]
  },
  {
   "cell_type": "code",
   "execution_count": 5,
   "metadata": {},
   "outputs": [],
   "source": [
    "def compare(seq,n,start,tinySeq,count=0):\n",
    "    try:\n",
    "        sequenceToCompare=get_n_seq(seq,n,start)\n",
    "        if(tinySeq==sequenceToCompare and len(tinySeq)==n):\n",
    "            count+=1\n",
    "        if ((len(seq)-1)==start):\n",
    "            return count\n",
    "        else:\n",
    "            return compare(seq,n,(start+1),tinySeq,count)\n",
    "    except:\n",
    "        return count"
   ]
  },
  {
   "cell_type": "code",
   "execution_count": 6,
   "metadata": {},
   "outputs": [],
   "source": [
    "def fetch(seq,n):\n",
    "    current=0\n",
    "    sequenceFound=[]\n",
    "    occurance=[]\n",
    "    for _ in seq:\n",
    "        tinySeq=get_n_seq(seq,n,current)\n",
    "        count=compare(seq,n,current,tinySeq)\n",
    "        if count>1:\n",
    "            if tinySeq in sequenceFound:\n",
    "                idx=sequenceFound.index(tinySeq)\n",
    "                occurance[idx]+=count\n",
    "            else:\n",
    "                sequenceFound.append(count)\n",
    "        current+=1\n",
    "    return sequenceFound,occurance\n",
    "            "
   ]
  },
  {
   "cell_type": "code",
   "execution_count": 7,
   "metadata": {},
   "outputs": [],
   "source": [
    "repeats,repeat_num=fetch(complete_seq,4)"
   ]
  },
  {
   "cell_type": "code",
   "execution_count": 11,
   "metadata": {},
   "outputs": [
    {
     "name": "stdout",
     "output_type": "stream",
     "text": [
      "[9, 18, 9, 5, 11, 14, 29, 3, 3, 10, 9, 6, 9, 18, 12, 6, 6, 3, 23, 17, 11, 8, 6, 3, 3, 6, 14, 3, 3, 12, 3, 9, 6, 6, 6, 12, 9, 13, 28, 8, 13, 9, 8, 9, 3, 6, 9, 3, 3, 6, 11, 8, 12, 27, 21, 6, 12, 17, 17, 9, 6, 6, 9, 8, 11, 3, 10, 9, 12, 9, 11, 3, 5, 3, 3, 3, 12, 8, 7, 8, 9, 17, 8, 8, 11, 3, 3, 3, 12, 9, 5, 3, 6, 6, 3, 5, 5, 8, 11, 3, 10, 5, 9, 7, 8, 5, 5, 3, 3, 3, 9, 7, 3, 5, 5, 5, 3, 8, 7, 12, 11, 8, 12, 22, 6, 3, 10, 2, 4, 8, 10, 26, 20, 14, 21, 8, 6, 11, 16, 8, 16, 9, 11, 20, 7, 5, 10, 15, 16, 11, 3, 8, 15, 20, 7, 8, 5, 7, 7, 15, 14, 7, 10, 15, 21, 25, 19, 5, 9, 7, 13, 19, 6, 7, 10, 18, 16, 10, 7, 24, 19, 12, 17, 15, 9, 14, 20, 5, 3, 3, 12, 9, 13, 19, 23, 18, 15, 10, 9, 3, 13, 3, 3, 3, 6, 18, 22, 18, 11, 16, 5, 6, 5, 5, 3, 3, 3, 14, 11, 9, 6, 3, 3, 5, 11, 13, 14, 7, 10, 5, 3, 3, 3, 5, 10, 14, 7, 3, 3, 8, 8, 8, 14, 3, 5, 3, 3, 5, 17, 9, 7, 5, 5, 17, 7, 9, 7, 10, 7, 7, 7, 13, 7, 13, 17, 13, 9, 3, 5, 9, 6, 6, 9, 3, 3, 16, 10, 3, 5, 5, 5, 2, 2, 10, 8, 12, 16, 21, 6, 10, 12, 12, 2, 2, 4, 6, 4, 4, 6, 6, 4, 2, 20, 15, 2, 11, 2, 15, 19, 14, 8, 12, 16, 9, 4, 3, 2, 11, 13, 7, 10, 15, 8, 7, 10, 14, 5, 8, 4, 14, 6, 12, 6, 3, 7, 9, 18, 2, 2, 6, 6, 4, 6, 12, 8, 4, 4, 2, 15, 11, 7, 5, 4, 2, 2, 4, 9, 2, 2, 8, 2, 6, 4, 4, 4, 8, 6, 8, 17, 5, 8, 6, 5, 6, 2, 4, 6, 2, 2, 4, 7, 5, 7, 16, 13, 4, 8, 11, 11, 6, 4, 4, 6, 5, 7, 2, 6, 6, 8, 6, 6, 2, 4, 2, 2, 2, 7, 5, 4, 5, 6, 11, 5, 5, 7, 2, 2, 2, 8, 6, 3, 2, 4, 4, 2, 3, 3, 5, 7, 2, 6, 3, 5, 4, 5, 3, 3, 2, 2, 2, 5, 4, 2, 3, 3, 3, 2, 5, 4, 8, 7, 5, 8, 14, 4, 2, 6, 2, 4, 5, 15, 12, 9, 13, 5, 4, 7, 10, 5, 10, 6, 7, 12, 4, 3, 6, 9, 10, 7, 2, 5, 9, 12, 4, 5, 3, 4, 4, 9, 8, 4, 6, 9, 13, 14, 11, 3, 5, 4, 8, 11, 3, 4, 6, 10, 10, 6, 4, 13, 11, 7, 9, 9, 5, 8, 12, 3, 2, 2, 7, 5, 7, 11, 12, 10, 9, 6, 5, 2, 7, 2, 2, 2, 4, 10, 11, 10, 6, 8, 3, 4, 3, 3, 2, 2, 2, 8, 6, 5, 4, 2, 2, 3, 6, 7, 8, 4, 6, 3, 2, 2, 2, 3, 6, 8, 4, 2, 2, 5, 5, 5, 8, 2, 3, 2, 2, 3, 9, 5, 4, 3, 3, 9, 4, 5, 4, 6, 4, 4, 4, 7, 4, 7, 9, 7, 5, 2, 3, 5, 4, 4, 5, 2, 2, 8, 5, 2, 3, 3, 3, 3, 5, 4, 6, 8, 10, 3, 5, 6, 6, 2, 3, 2, 2, 3, 3, 2, 9, 7, 5, 7, 8, 6, 4, 6, 8, 4, 2, 5, 5, 3, 4, 7, 3, 3, 4, 6, 2, 4, 2, 6, 3, 6, 3, 3, 4, 7, 2, 3, 2, 3, 6, 4, 2, 2, 7, 5, 3, 2, 2, 2, 4, 4, 3, 2, 2, 2, 4, 3, 3, 6, 2, 3, 3, 2, 3, 2, 3, 2, 3, 2, 2, 5, 5, 2, 4, 5, 5, 3, 2, 2, 3, 2, 3, 2, 3, 4, 3, 2, 2, 2, 2, 3, 5, 2, 2, 3, 4, 3, 2, 2, 2, 3, 2, 2, 2, 4, 3, 2, 4, 6, 2, 2, 2, 3, 4, 2, 4, 3, 3, 5, 2, 2, 3, 4, 3, 2, 3, 4, 2, 3, 2, 2, 3, 5, 4, 3, 4, 4, 2, 3, 4, 2, 3, 4, 3, 2, 3, 2, 4, 2, 3, 2, 2, 3, 2, 2, 2, 3, 2, 2, 2, 2, 2, 2, 2, 2, 2, 2, 2, 2, 2, 2, 2, 2]\n"
     ]
    }
   ],
   "source": [
    "print(repeats)"
   ]
  },
  {
   "cell_type": "code",
   "execution_count": null,
   "metadata": {},
   "outputs": [],
   "source": [
    "def repeats(seq,n):\n",
    "    repeat_count=dict()\n",
    "    temp=[]\n",
    "    for _ in seq:\n",
    "        pass\n",
    "    return repeat_count"
   ]
  },
  {
   "cell_type": "code",
   "execution_count": null,
   "metadata": {},
   "outputs": [],
   "source": [
    "n=input()\n",
    "repeats=[]\n",
    "for read in sequences:\n",
    "    for i in range(len(read)):\n",
    "        if read[i:n+i]==read[i+1:n+i+1]:\n",
    "            repeats.append(read[i:n+i])"
   ]
  },
  {
   "cell_type": "code",
   "execution_count": 5,
   "metadata": {},
   "outputs": [
    {
     "name": "stdout",
     "output_type": "stream",
     "text": [
      "{'A': 1, 'C': 1, 'G': 1, 'T': 1}\n"
     ]
    }
   ],
   "source": [
    "trial=dict()\n",
    "text='AACCGAT'\n",
    "for a in text:\n",
    "    trial[a]=+1\n",
    "print(trial)\n",
    "    "
   ]
  },
  {
   "cell_type": "code",
   "execution_count": null,
   "metadata": {},
   "outputs": [],
   "source": []
  }
 ],
 "metadata": {
  "kernelspec": {
   "display_name": "Python 3",
   "language": "python",
   "name": "python3"
  },
  "language_info": {
   "codemirror_mode": {
    "name": "ipython",
    "version": 3
   },
   "file_extension": ".py",
   "mimetype": "text/x-python",
   "name": "python",
   "nbconvert_exporter": "python",
   "pygments_lexer": "ipython3",
   "version": "3.7.3"
  }
 },
 "nbformat": 4,
 "nbformat_minor": 2
}
